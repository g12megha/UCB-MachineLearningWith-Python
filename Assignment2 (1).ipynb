{
 "cells": [
  {
   "cell_type": "code",
   "execution_count": 32,
   "metadata": {
    "collapsed": true
   },
   "outputs": [],
   "source": [
    "import pandas as pd\n",
    "import numpy as np\n"
   ]
  },
  {
   "cell_type": "code",
   "execution_count": 33,
   "metadata": {
    "collapsed": true
   },
   "outputs": [],
   "source": [
    "data = pd.read_csv(\"Assignment_2_Data_and_Template.csv\")"
   ]
  },
  {
   "cell_type": "code",
   "execution_count": 34,
   "metadata": {},
   "outputs": [
    {
     "data": {
      "text/html": [
       "<div>\n",
       "<style>\n",
       "    .dataframe thead tr:only-child th {\n",
       "        text-align: right;\n",
       "    }\n",
       "\n",
       "    .dataframe thead th {\n",
       "        text-align: left;\n",
       "    }\n",
       "\n",
       "    .dataframe tbody tr th {\n",
       "        vertical-align: top;\n",
       "    }\n",
       "</style>\n",
       "<table border=\"1\" class=\"dataframe\">\n",
       "  <thead>\n",
       "    <tr style=\"text-align: right;\">\n",
       "      <th></th>\n",
       "      <th>Sex</th>\n",
       "      <th>Height</th>\n",
       "      <th>HandSpan</th>\n",
       "    </tr>\n",
       "  </thead>\n",
       "  <tbody>\n",
       "    <tr>\n",
       "      <th>0</th>\n",
       "      <td>Female</td>\n",
       "      <td>68</td>\n",
       "      <td>21.5</td>\n",
       "    </tr>\n",
       "    <tr>\n",
       "      <th>1</th>\n",
       "      <td>Male</td>\n",
       "      <td>71</td>\n",
       "      <td>23.5</td>\n",
       "    </tr>\n",
       "    <tr>\n",
       "      <th>2</th>\n",
       "      <td>Male</td>\n",
       "      <td>73</td>\n",
       "      <td>22.5</td>\n",
       "    </tr>\n",
       "    <tr>\n",
       "      <th>3</th>\n",
       "      <td>Female</td>\n",
       "      <td>64</td>\n",
       "      <td>18.0</td>\n",
       "    </tr>\n",
       "    <tr>\n",
       "      <th>4</th>\n",
       "      <td>Male</td>\n",
       "      <td>68</td>\n",
       "      <td>23.5</td>\n",
       "    </tr>\n",
       "  </tbody>\n",
       "</table>\n",
       "</div>"
      ],
      "text/plain": [
       "      Sex  Height  HandSpan\n",
       "0  Female      68      21.5\n",
       "1    Male      71      23.5\n",
       "2    Male      73      22.5\n",
       "3  Female      64      18.0\n",
       "4    Male      68      23.5"
      ]
     },
     "execution_count": 34,
     "metadata": {},
     "output_type": "execute_result"
    }
   ],
   "source": [
    "data.head()"
   ]
  },
  {
   "cell_type": "code",
   "execution_count": 35,
   "metadata": {},
   "outputs": [],
   "source": [
    "def histClassifier(X,T, Bx ,By ,xmin,xmax):\n",
    "    HF=np.zeros((Bx,Bx)).astype('int32')\n",
    "    HM = np.zeros((By,By)).astype('int32')\n",
    "    binindexHeight = (np.round((Bx-1)*(X['Height'] - xmin['Height'])/(xmax['Height'] - xmin['Height']))).astype('int32')\n",
    "    binindexHandSpan = (np.round((By-1)*(X['HandSpan'] - xmin['HandSpan'])/(xmax['HandSpan'] - xmin['HandSpan']))).astype('int32')\n",
    "    for (i,b) in enumerate(binindexHeight):\n",
    "        if T[i] == 'Female':\n",
    "            HF[b][binindexHandSpan[i]]+=1\n",
    "        else:\n",
    "            HM[b][binindexHandSpan[i]]+=1\n",
    "    return [HF,HM]\n",
    "\n"
   ]
  },
  {
   "cell_type": "code",
   "execution_count": 36,
   "metadata": {},
   "outputs": [
    {
     "data": {
      "text/plain": [
       "167"
      ]
     },
     "execution_count": 36,
     "metadata": {},
     "output_type": "execute_result"
    }
   ],
   "source": [
    "data['Sex'].count()"
   ]
  },
  {
   "cell_type": "code",
   "execution_count": 37,
   "metadata": {},
   "outputs": [
    {
     "name": "stdout",
     "output_type": "stream",
     "text": [
      "89\n",
      "78\n",
      "B female -  8\n",
      "B male -  8\n"
     ]
    }
   ],
   "source": [
    "import math\n",
    "#count of male and female\n",
    "countFemale = data[data['Sex'] == 'Female']['Height'].count()\n",
    "print(countFemale)\n",
    "countMale = data[data['Sex'] == 'Male']['Height'].count()\n",
    "print(countMale)\n",
    "N = data['Sex'].count()\n",
    "BfemaleHist=math.ceil( math.log2(countFemale)+ 1)\n",
    "BmaleHist=math.ceil( math.log2(countMale)+ 1)\n",
    "print(\"B female - \", BfemaleHist)\n",
    "print(\"B male - \", BmaleHist)"
   ]
  },
  {
   "cell_type": "code",
   "execution_count": 38,
   "metadata": {},
   "outputs": [],
   "source": [
    "xmin = data.min()\n",
    "xmax = data.max()\n",
    "[HF,HM] = histClassifier(data,data['Sex'],BfemaleHist,BmaleHist,xmin,xmax)\n",
    "\n"
   ]
  },
  {
   "cell_type": "code",
   "execution_count": 39,
   "metadata": {
    "scrolled": true
   },
   "outputs": [
    {
     "data": {
      "text/plain": [
       "Sex         Female\n",
       "Height          57\n",
       "HandSpan        16\n",
       "dtype: object"
      ]
     },
     "execution_count": 39,
     "metadata": {},
     "output_type": "execute_result"
    }
   ],
   "source": [
    "xmin"
   ]
  },
  {
   "cell_type": "code",
   "execution_count": 40,
   "metadata": {},
   "outputs": [
    {
     "data": {
      "text/plain": [
       "Sex         Male\n",
       "Height        78\n",
       "HandSpan    25.5\n",
       "dtype: object"
      ]
     },
     "execution_count": 40,
     "metadata": {},
     "output_type": "execute_result"
    }
   ],
   "source": [
    "xmax"
   ]
  },
  {
   "cell_type": "code",
   "execution_count": 41,
   "metadata": {},
   "outputs": [
    {
     "data": {
      "text/plain": [
       "array([[ 0,  0,  0,  0,  0,  0,  0,  0],\n",
       "       [ 0,  0,  0,  0,  0,  0,  0,  0],\n",
       "       [ 0,  0,  0,  0,  0,  0,  0,  0],\n",
       "       [ 0,  0,  1,  0,  6,  1,  0,  0],\n",
       "       [ 0,  1,  0,  2,  7,  8,  3,  0],\n",
       "       [ 0,  0,  0,  5, 14,  7,  5,  0],\n",
       "       [ 0,  0,  0,  1,  3,  1, 12,  0],\n",
       "       [ 0,  0,  0,  0,  0,  0,  0,  1]], dtype=int32)"
      ]
     },
     "execution_count": 41,
     "metadata": {},
     "output_type": "execute_result"
    }
   ],
   "source": [
    "HM"
   ]
  },
  {
   "cell_type": "code",
   "execution_count": 42,
   "metadata": {},
   "outputs": [
    {
     "name": "stdout",
     "output_type": "stream",
     "text": [
      "4\n",
      "6\n",
      "0\n",
      "3\n"
     ]
    }
   ],
   "source": [
    "ht = 69\n",
    "hs = 23.5\n",
    "heightBin = (np.round((BfemaleHist-1)*(ht - xmin['Height'])/(xmax['Height'] - xmin['Height']))).astype('int32')\n",
    "headSpanBin = (np.round((BfemaleHist-1)*(hs - xmin['HandSpan'])/(xmax['HandSpan'] - xmin['HandSpan']))).astype('int32')\n",
    "print(heightBin)\n",
    "print(headSpanBin)\n",
    "print(HF[heightBin][headSpanBin])\n",
    "print(HF[heightBin][headSpanBin] + HM[heightBin][headSpanBin])"
   ]
  },
  {
   "cell_type": "code",
   "execution_count": 43,
   "metadata": {},
   "outputs": [
    {
     "data": {
      "text/plain": [
       "0.0"
      ]
     },
     "execution_count": 43,
     "metadata": {},
     "output_type": "execute_result"
    }
   ],
   "source": [
    "HF[heightBin][headSpanBin]/(HF[heightBin][headSpanBin] + HM[heightBin][headSpanBin])"
   ]
  },
  {
   "cell_type": "code",
   "execution_count": null,
   "metadata": {},
   "outputs": [],
   "source": []
  },
  {
   "cell_type": "code",
   "execution_count": 44,
   "metadata": {
    "scrolled": true
   },
   "outputs": [
    {
     "data": {
      "text/plain": [
       "Height      65.280899\n",
       "HandSpan    19.601124\n",
       "dtype: float64"
      ]
     },
     "execution_count": 44,
     "metadata": {},
     "output_type": "execute_result"
    }
   ],
   "source": [
    "#PDF functions\n",
    "meanFemale = data[['Height','HandSpan']][data['Sex'] == 'Female'].mean()\n",
    "meanFemale"
   ]
  },
  {
   "cell_type": "code",
   "execution_count": 45,
   "metadata": {},
   "outputs": [
    {
     "data": {
      "text/plain": [
       "Height      71.294872\n",
       "HandSpan    22.301282\n",
       "dtype: float64"
      ]
     },
     "execution_count": 45,
     "metadata": {},
     "output_type": "execute_result"
    }
   ],
   "source": [
    "meanMale = data[['Height','HandSpan']][data['Sex'] == 'Male'].mean()\n",
    "meanMale"
   ]
  },
  {
   "cell_type": "code",
   "execution_count": 46,
   "metadata": {},
   "outputs": [
    {
     "data": {
      "text/html": [
       "<div>\n",
       "<style>\n",
       "    .dataframe thead tr:only-child th {\n",
       "        text-align: right;\n",
       "    }\n",
       "\n",
       "    .dataframe thead th {\n",
       "        text-align: left;\n",
       "    }\n",
       "\n",
       "    .dataframe tbody tr th {\n",
       "        vertical-align: top;\n",
       "    }\n",
       "</style>\n",
       "<table border=\"1\" class=\"dataframe\">\n",
       "  <thead>\n",
       "    <tr style=\"text-align: right;\">\n",
       "      <th></th>\n",
       "      <th>Height</th>\n",
       "      <th>HandSpan</th>\n",
       "    </tr>\n",
       "  </thead>\n",
       "  <tbody>\n",
       "    <tr>\n",
       "      <th>Height</th>\n",
       "      <td>7.727017</td>\n",
       "      <td>1.647408</td>\n",
       "    </tr>\n",
       "    <tr>\n",
       "      <th>HandSpan</th>\n",
       "      <td>1.647408</td>\n",
       "      <td>1.756703</td>\n",
       "    </tr>\n",
       "  </tbody>\n",
       "</table>\n",
       "</div>"
      ],
      "text/plain": [
       "            Height  HandSpan\n",
       "Height    7.727017  1.647408\n",
       "HandSpan  1.647408  1.756703"
      ]
     },
     "execution_count": 46,
     "metadata": {},
     "output_type": "execute_result"
    }
   ],
   "source": [
    "CoFemale = data[['Height','HandSpan']][data['Sex'] == 'Female'].cov()\n",
    "CoFemale"
   ]
  },
  {
   "cell_type": "code",
   "execution_count": 47,
   "metadata": {},
   "outputs": [
    {
     "data": {
      "text/html": [
       "<div>\n",
       "<style>\n",
       "    .dataframe thead tr:only-child th {\n",
       "        text-align: right;\n",
       "    }\n",
       "\n",
       "    .dataframe thead th {\n",
       "        text-align: left;\n",
       "    }\n",
       "\n",
       "    .dataframe tbody tr th {\n",
       "        vertical-align: top;\n",
       "    }\n",
       "</style>\n",
       "<table border=\"1\" class=\"dataframe\">\n",
       "  <thead>\n",
       "    <tr style=\"text-align: right;\">\n",
       "      <th></th>\n",
       "      <th>Height</th>\n",
       "      <th>HandSpan</th>\n",
       "    </tr>\n",
       "  </thead>\n",
       "  <tbody>\n",
       "    <tr>\n",
       "      <th>Height</th>\n",
       "      <td>7.041792</td>\n",
       "      <td>1.793124</td>\n",
       "    </tr>\n",
       "    <tr>\n",
       "      <th>HandSpan</th>\n",
       "      <td>1.793124</td>\n",
       "      <td>2.060648</td>\n",
       "    </tr>\n",
       "  </tbody>\n",
       "</table>\n",
       "</div>"
      ],
      "text/plain": [
       "            Height  HandSpan\n",
       "Height    7.041792  1.793124\n",
       "HandSpan  1.793124  2.060648"
      ]
     },
     "execution_count": 47,
     "metadata": {},
     "output_type": "execute_result"
    }
   ],
   "source": [
    "CoMale = data[['Height','HandSpan']][data['Sex'] == 'Male'].cov()\n",
    "CoMale"
   ]
  },
  {
   "cell_type": "code",
   "execution_count": 48,
   "metadata": {},
   "outputs": [
    {
     "data": {
      "text/plain": [
       "pandas.core.frame.DataFrame"
      ]
     },
     "execution_count": 48,
     "metadata": {},
     "output_type": "execute_result"
    }
   ],
   "source": [
    "type(CoFemale)"
   ]
  },
  {
   "cell_type": "code",
   "execution_count": 49,
   "metadata": {},
   "outputs": [
    {
     "data": {
      "text/plain": [
       "10.86012331402638"
      ]
     },
     "execution_count": 49,
     "metadata": {},
     "output_type": "execute_result"
    }
   ],
   "source": [
    "a = CoFemale.as_matrix()\n",
    "Femaledet = np.linalg.det(a)\n",
    "Femaledet"
   ]
  },
  {
   "cell_type": "code",
   "execution_count": 50,
   "metadata": {},
   "outputs": [
    {
     "data": {
      "text/plain": [
       "11.295359402502296"
      ]
     },
     "execution_count": 50,
     "metadata": {},
     "output_type": "execute_result"
    }
   ],
   "source": [
    "m = CoMale.as_matrix()\n",
    "Maledet = np.linalg.det(m)\n",
    "Maledet"
   ]
  },
  {
   "cell_type": "code",
   "execution_count": 51,
   "metadata": {
    "collapsed": true
   },
   "outputs": [],
   "source": [
    "import math"
   ]
  },
  {
   "cell_type": "code",
   "execution_count": 52,
   "metadata": {},
   "outputs": [],
   "source": [
    "import math\n",
    "def pdf(mean, coMatrix, coDet, x):\n",
    "    var = float(coDet)**0.5\n",
    "    denom = (2*math.pi*var)\n",
    "    xsubmean = np.matrix(x-mean)\n",
    "    invcovariance = np.linalg.inv(coMatrix)\n",
    "    meanInvProduct = xsubmean* invcovariance\n",
    "    xsubMeanTranspose= np.transpose([np.array(x-mean)])\n",
    "    num = math.exp(-1 *meanInvProduct *xsubMeanTranspose /2 )\n",
    "    return num/denom"
   ]
  },
  {
   "cell_type": "code",
   "execution_count": 53,
   "metadata": {},
   "outputs": [
    {
     "name": "stdout",
     "output_type": "stream",
     "text": [
      "Probabilty of females  0.0567654529895\n"
     ]
    }
   ],
   "source": [
    "x = 69\n",
    "y = 23.5\n",
    "pdfFemale = pdf(meanFemale,a,Femaledet,[x,y])\n",
    "pdfMale = pdf(meanMale,m,Maledet,[x,y])\n",
    "ProbFemale = countFemale * pdfFemale / (countMale * pdfMale + countFemale * pdfFemale  )\n",
    "print(\"Probabilty of females \",ProbFemale)"
   ]
  },
  {
   "cell_type": "code",
   "execution_count": 54,
   "metadata": {},
   "outputs": [
    {
     "data": {
      "text/plain": [
       "0.0006378658525545122"
      ]
     },
     "execution_count": 54,
     "metadata": {},
     "output_type": "execute_result"
    }
   ],
   "source": [
    "pdfFemale"
   ]
  },
  {
   "cell_type": "code",
   "execution_count": 55,
   "metadata": {},
   "outputs": [
    {
     "data": {
      "text/plain": [
       "8"
      ]
     },
     "execution_count": 55,
     "metadata": {},
     "output_type": "execute_result"
    }
   ],
   "source": [
    "BfemaleHist"
   ]
  },
  {
   "cell_type": "code",
   "execution_count": 56,
   "metadata": {
    "scrolled": true
   },
   "outputs": [
    {
     "name": "stdout",
     "output_type": "stream",
     "text": [
      "height bin sizee  2.625  handspan bin size  1.1875\n",
      " i =  0\n",
      "Centers 58.3125 16.59375\n",
      "4.979561315080014e-08\n",
      "Centers 58.3125 17.78125\n",
      "1.8987732992104192e-07\n",
      "Centers 58.3125 18.96875\n",
      "3.0057735633858056e-07\n",
      "Centers 58.3125 20.15625\n",
      "1.9753339025650695e-07\n",
      "Centers 58.3125 21.34375\n",
      "5.389219686171017e-08\n",
      "Centers 58.3125 22.53125\n",
      "6.103969716302525e-09\n",
      "Centers 58.3125 23.71875\n",
      "2.870119410474879e-10\n",
      "Centers 58.3125 24.90625\n",
      "5.602587837070055e-12\n",
      " i =  1\n",
      "Centers 60.9375 16.59375\n",
      "1.2340541931652497e-06\n",
      "Centers 60.9375 17.78125\n",
      "7.71838869332777e-06\n",
      "Centers 60.9375 18.96875\n",
      "2.0041036173044954e-05\n",
      "Centers 60.9375 20.15625\n",
      "2.1603037077294464e-05\n",
      "Centers 60.9375 21.34375\n",
      "9.667419466345253e-06\n",
      "Centers 60.9375 22.53125\n",
      "1.7960045292978973e-06\n",
      "Centers 60.9375 23.71875\n",
      "1.3851774250422462e-07\n",
      "Centers 60.9375 24.90625\n",
      "4.4351110163373576e-09\n",
      " i =  2\n",
      "Centers 63.5625 16.59375\n",
      "8.700320253765313e-06\n",
      "Centers 63.5625 17.78125\n",
      "8.925612627915903e-05\n",
      "Centers 63.5625 18.96875\n",
      "0.0003801385753349739\n",
      "Centers 63.5625 20.15625\n",
      "0.0006721202245034289\n",
      "Centers 63.5625 21.34375\n",
      "0.0004933476883389629\n",
      "Centers 63.5625 22.53125\n",
      "0.00015033508385478686\n",
      "Centers 63.5625 23.71875\n",
      "1.9018169052950095e-05\n",
      "Centers 63.5625 24.90625\n",
      "9.987991766567413e-07\n",
      " i =  3\n",
      "Centers 66.1875 16.59375\n",
      "1.7449946723614436e-05\n",
      "Centers 66.1875 17.78125\n",
      "0.00029363463653226735\n",
      "Centers 66.1875 18.96875\n",
      "0.0020512640696718023\n",
      "Centers 66.1875 20.15625\n",
      "0.00594890420913799\n",
      "Centers 66.1875 21.34375\n",
      "0.007162316222513791\n",
      "Centers 66.1875 22.53125\n",
      "0.0035799018525444074\n",
      "Centers 66.1875 23.71875\n",
      "0.0007428307294816359\n",
      "Centers 66.1875 24.90625\n",
      "6.398964715461764e-05\n",
      " i =  4\n",
      "Centers 68.8125 16.59375\n",
      "9.95659475002113e-06\n",
      "Centers 68.8125 17.78125\n",
      "0.0002748111758013746\n",
      "Centers 68.8125 18.96875\n",
      "0.0031489014027190967\n",
      "Centers 68.8125 20.15625\n",
      "0.014979069893864244\n",
      "Centers 68.8125 21.34375\n",
      "0.02958092462949422\n",
      "Centers 68.8125 22.53125\n",
      "0.02425156419670488\n",
      "Centers 68.8125 23.71875\n",
      "0.008254083890419346\n",
      "Centers 68.8125 24.90625\n",
      "0.0011662700271307918\n",
      " i =  5\n",
      "Centers 71.4375 16.59375\n",
      "1.6161639526535956e-06\n",
      "Centers 71.4375 17.78125\n",
      "7.31676922145835e-05\n",
      "Centers 71.4375 18.96875\n",
      "0.0013751637358916428\n",
      "Centers 71.4375 20.15625\n",
      "0.010729774083401363\n",
      "Centers 71.4375 21.34375\n",
      "0.03475584546173133\n",
      "Centers 71.4375 22.53125\n",
      "0.04673758304744956\n",
      "Centers 71.4375 23.71875\n",
      "0.02609190298034871\n",
      "Centers 71.4375 24.90625\n",
      "0.006047089172129126\n",
      " i =  6\n",
      "Centers 74.0625 16.59375\n",
      "7.463075929643441e-08\n",
      "Centers 74.0625 17.78125\n",
      "5.541944641792632e-06\n",
      "Centers 74.0625 18.96875\n",
      "0.00017084710309707177\n",
      "Centers 74.0625 20.15625\n",
      "0.002186523593670699\n",
      "Centers 74.0625 21.34375\n",
      "0.011617209717443502\n",
      "Centers 74.0625 22.53125\n",
      "0.025624217011533803\n",
      "Centers 74.0625 23.71875\n",
      "0.023463915759123086\n",
      "Centers 74.0625 24.90625\n",
      "0.008919725524486053\n",
      " i =  7\n",
      "Centers 76.6875 16.59375\n",
      "9.80410973909204e-10\n",
      "Centers 76.6875 17.78125\n",
      "1.194160959630349e-07\n",
      "Centers 76.6875 18.96875\n",
      "6.038355621241836e-06\n",
      "Centers 76.6875 20.15625\n",
      "0.00012675806977341947\n",
      "Centers 76.6875 21.34375\n",
      "0.0011046728001200478\n",
      "Centers 76.6875 22.53125\n",
      "0.003996619627548929\n",
      "Centers 76.6875 23.71875\n",
      "0.006002789108056768\n",
      "Centers 76.6875 24.90625\n",
      "0.003742953808853757\n"
     ]
    }
   ],
   "source": [
    "#consturct histogram from baysian\n",
    "#female\n",
    "#number of bins for female histogram = BfemaleHist\n",
    "#number of bins for male histogram = BmaleHist\n",
    "#min - xmin\n",
    "#max - xmax\n",
    "HFplot = np.zeros((BfemaleHist,BfemaleHist))\n",
    "HMplot = np.zeros((BfemaleHist,BfemaleHist))\n",
    "binsizeHeight = (xmax['Height'] - xmin['Height'])/BfemaleHist\n",
    "binsizeHandSpan =  (xmax['HandSpan'] - xmin['HandSpan'])/ BfemaleHist\n",
    "xstart = xmin['Height']\n",
    "ystart = xmin['HandSpan']\n",
    "print(\"height bin sizee \", binsizeHeight , \" handspan bin size \", binsizeHandSpan )\n",
    "for i in range(BfemaleHist):\n",
    "    print(\" i = \" , i)\n",
    "    x = xstart + binsizeHeight/2 \n",
    "    ydup = ystart\n",
    "    for j  in range(BfemaleHist):\n",
    "        y = ydup + binsizeHandSpan/2\n",
    "        pdfFemale = pdf(meanFemale,a,Femaledet,[x,y])\n",
    "        pdfMale = pdf(meanMale,m,Maledet,[x,y])\n",
    "        HFplot[i][j] = pdfFemale * countFemale *  ( binsizeHeight * binsizeHandSpan)\n",
    "        print(\"Centers\" ,x, y )\n",
    "        print(pdfMale)\n",
    "        HMplot[i][j] = pdfMale * countMale *  ( binsizeHeight * binsizeHandSpan)\n",
    "        ydup = ydup + binsizeHandSpan\n",
    "    xstart = xstart + binsizeHeight\n",
    "   \n",
    "   "
   ]
  },
  {
   "cell_type": "code",
   "execution_count": null,
   "metadata": {
    "collapsed": true
   },
   "outputs": [],
   "source": []
  },
  {
   "cell_type": "code",
   "execution_count": 57,
   "metadata": {},
   "outputs": [
    {
     "data": {
      "text/plain": [
       "Sex         Female\n",
       "Height          57\n",
       "HandSpan        16\n",
       "dtype: object"
      ]
     },
     "execution_count": 57,
     "metadata": {},
     "output_type": "execute_result"
    }
   ],
   "source": [
    "xmin"
   ]
  },
  {
   "cell_type": "code",
   "execution_count": 58,
   "metadata": {},
   "outputs": [
    {
     "data": {
      "text/plain": [
       "Sex         Male\n",
       "Height        78\n",
       "HandSpan    25.5\n",
       "dtype: object"
      ]
     },
     "execution_count": 58,
     "metadata": {},
     "output_type": "execute_result"
    }
   ],
   "source": [
    "xmax"
   ]
  },
  {
   "cell_type": "code",
   "execution_count": 59,
   "metadata": {},
   "outputs": [
    {
     "data": {
      "text/plain": [
       "88.697421619252168"
      ]
     },
     "execution_count": 59,
     "metadata": {},
     "output_type": "execute_result"
    }
   ],
   "source": [
    "HFplot.sum()"
   ]
  },
  {
   "cell_type": "code",
   "execution_count": 64,
   "metadata": {},
   "outputs": [
    {
     "data": {
      "text/plain": [
       "array([[  0.,   1.,   0.,   0.,   0.,   0.,   0.,   0.],\n",
       "       [  1.,   3.,   4.,   2.,   0.,   0.,   0.,   0.],\n",
       "       [  1.,   5.,  11.,   8.,   2.,   0.,   0.,   0.],\n",
       "       [  0.,   3.,  10.,  12.,   5.,   1.,   0.,   0.],\n",
       "       [  0.,   1.,   3.,   6.,   4.,   1.,   0.,   0.],\n",
       "       [  0.,   0.,   0.,   1.,   1.,   0.,   0.,   0.],\n",
       "       [  0.,   0.,   0.,   0.,   0.,   0.,   0.,   0.],\n",
       "       [  0.,   0.,   0.,   0.,   0.,   0.,   0.,   0.]])"
      ]
     },
     "execution_count": 64,
     "metadata": {},
     "output_type": "execute_result"
    }
   ],
   "source": [
    "np.round(HFplot)"
   ]
  },
  {
   "cell_type": "code",
   "execution_count": 61,
   "metadata": {},
   "outputs": [
    {
     "data": {
      "text/plain": [
       "array([[ 1,  0,  0,  0,  0,  0,  0,  0],\n",
       "       [ 0,  2,  2,  2,  0,  0,  0,  0],\n",
       "       [ 1,  5, 11,  8,  5,  0,  0,  0],\n",
       "       [ 0,  1,  6, 20,  4,  0,  0,  0],\n",
       "       [ 0,  0,  4,  8,  4,  2,  0,  0],\n",
       "       [ 0,  0,  1,  1,  1,  0,  0,  0],\n",
       "       [ 0,  0,  0,  0,  0,  0,  0,  0],\n",
       "       [ 0,  0,  0,  0,  0,  0,  0,  0]], dtype=int32)"
      ]
     },
     "execution_count": 61,
     "metadata": {},
     "output_type": "execute_result"
    }
   ],
   "source": [
    "HF"
   ]
  },
  {
   "cell_type": "code",
   "execution_count": 62,
   "metadata": {},
   "outputs": [
    {
     "data": {
      "text/plain": [
       "array([[ 0,  0,  0,  0,  0,  0,  0,  0],\n",
       "       [ 0,  0,  0,  0,  0,  0,  0,  0],\n",
       "       [ 0,  0,  0,  0,  0,  0,  0,  0],\n",
       "       [ 0,  0,  1,  0,  6,  1,  0,  0],\n",
       "       [ 0,  1,  0,  2,  7,  8,  3,  0],\n",
       "       [ 0,  0,  0,  5, 14,  7,  5,  0],\n",
       "       [ 0,  0,  0,  1,  3,  1, 12,  0],\n",
       "       [ 0,  0,  0,  0,  0,  0,  0,  1]], dtype=int32)"
      ]
     },
     "execution_count": 62,
     "metadata": {},
     "output_type": "execute_result"
    }
   ],
   "source": [
    "HM"
   ]
  },
  {
   "cell_type": "code",
   "execution_count": null,
   "metadata": {
    "collapsed": true
   },
   "outputs": [],
   "source": []
  },
  {
   "cell_type": "code",
   "execution_count": null,
   "metadata": {
    "collapsed": true
   },
   "outputs": [],
   "source": []
  },
  {
   "cell_type": "code",
   "execution_count": null,
   "metadata": {
    "collapsed": true
   },
   "outputs": [],
   "source": []
  },
  {
   "cell_type": "code",
   "execution_count": null,
   "metadata": {
    "collapsed": true
   },
   "outputs": [],
   "source": []
  }
 ],
 "metadata": {
  "kernelspec": {
   "display_name": "Python 3",
   "language": "python",
   "name": "python3"
  },
  "language_info": {
   "codemirror_mode": {
    "name": "ipython",
    "version": 3
   },
   "file_extension": ".py",
   "mimetype": "text/x-python",
   "name": "python",
   "nbconvert_exporter": "python",
   "pygments_lexer": "ipython3",
   "version": "3.6.1"
  }
 },
 "nbformat": 4,
 "nbformat_minor": 2
}
