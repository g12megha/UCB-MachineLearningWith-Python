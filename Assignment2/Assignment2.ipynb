{
 "cells": [
  {
   "cell_type": "code",
   "execution_count": 1,
   "metadata": {
    "collapsed": true
   },
   "outputs": [],
   "source": [
    "import pandas as pd\n",
    "import numpy as np\n"
   ]
  },
  {
   "cell_type": "code",
   "execution_count": 2,
   "metadata": {
    "collapsed": true
   },
   "outputs": [],
   "source": [
    "data = pd.read_csv(\"Assignment_2_Data_and_Template.csv\")"
   ]
  },
  {
   "cell_type": "code",
   "execution_count": 3,
   "metadata": {},
   "outputs": [
    {
     "data": {
      "text/html": [
       "<div>\n",
       "<style>\n",
       "    .dataframe thead tr:only-child th {\n",
       "        text-align: right;\n",
       "    }\n",
       "\n",
       "    .dataframe thead th {\n",
       "        text-align: left;\n",
       "    }\n",
       "\n",
       "    .dataframe tbody tr th {\n",
       "        vertical-align: top;\n",
       "    }\n",
       "</style>\n",
       "<table border=\"1\" class=\"dataframe\">\n",
       "  <thead>\n",
       "    <tr style=\"text-align: right;\">\n",
       "      <th></th>\n",
       "      <th>Sex</th>\n",
       "      <th>Height</th>\n",
       "      <th>HandSpan</th>\n",
       "    </tr>\n",
       "  </thead>\n",
       "  <tbody>\n",
       "    <tr>\n",
       "      <th>0</th>\n",
       "      <td>Female</td>\n",
       "      <td>68</td>\n",
       "      <td>21.5</td>\n",
       "    </tr>\n",
       "    <tr>\n",
       "      <th>1</th>\n",
       "      <td>Male</td>\n",
       "      <td>71</td>\n",
       "      <td>23.5</td>\n",
       "    </tr>\n",
       "    <tr>\n",
       "      <th>2</th>\n",
       "      <td>Male</td>\n",
       "      <td>73</td>\n",
       "      <td>22.5</td>\n",
       "    </tr>\n",
       "    <tr>\n",
       "      <th>3</th>\n",
       "      <td>Female</td>\n",
       "      <td>64</td>\n",
       "      <td>18.0</td>\n",
       "    </tr>\n",
       "    <tr>\n",
       "      <th>4</th>\n",
       "      <td>Male</td>\n",
       "      <td>68</td>\n",
       "      <td>23.5</td>\n",
       "    </tr>\n",
       "  </tbody>\n",
       "</table>\n",
       "</div>"
      ],
      "text/plain": [
       "      Sex  Height  HandSpan\n",
       "0  Female      68      21.5\n",
       "1    Male      71      23.5\n",
       "2    Male      73      22.5\n",
       "3  Female      64      18.0\n",
       "4    Male      68      23.5"
      ]
     },
     "execution_count": 3,
     "metadata": {},
     "output_type": "execute_result"
    }
   ],
   "source": [
    "data.head()"
   ]
  },
  {
   "cell_type": "code",
   "execution_count": 4,
   "metadata": {
    "collapsed": true
   },
   "outputs": [],
   "source": [
    "def histClassifier(X,T, Bx ,By ,xmin,xmax):\n",
    "    HF=np.zeros((Bx,By)).astype('int32')\n",
    "    HM = np.zeros((Bx,By)).astype('int32')\n",
    "    binindexHeight = (np.round((Bx-1)*(X['Height'] - xmin['Height'])/(xmax['Height'] - xmin['Height']))).astype('int32')\n",
    "    binindexHandSpan = (np.round((By-1)*(X['HandSpan'] - xmin['HandSpan'])/(xmax['HandSpan'] - xmin['HandSpan']))).astype('int32')\n",
    "    smallIndex = min(len(binindexHeight),len(binindexHandSpan))\n",
    "    print(\"Small Index\" , len(binindexHandSpan))\n",
    "    for (i,b) in enumerate(binindexHeight):\n",
    "        if T[i] == 'Female':\n",
    "            HF[b][binindexHandSpan[i]]+=1\n",
    "        else:\n",
    "            HM[b][binindexHandSpan[i]]+=1\n",
    "    return [HF,HM]\n",
    "\n"
   ]
  },
  {
   "cell_type": "code",
   "execution_count": 5,
   "metadata": {},
   "outputs": [
    {
     "data": {
      "text/plain": [
       "167"
      ]
     },
     "execution_count": 5,
     "metadata": {},
     "output_type": "execute_result"
    }
   ],
   "source": [
    "data['Sex'].count()"
   ]
  },
  {
   "cell_type": "code",
   "execution_count": 6,
   "metadata": {},
   "outputs": [
    {
     "name": "stdout",
     "output_type": "stream",
     "text": [
      "B -  8\n"
     ]
    }
   ],
   "source": [
    "import math\n",
    "N = data['Sex'].count()\n",
    "Bx=math.ceil( math.log2(N+ 1))\n",
    "By=math.ceil( math.log2(N+ 1))\n",
    "print(\"B - \", Bx)"
   ]
  },
  {
   "cell_type": "code",
   "execution_count": 7,
   "metadata": {},
   "outputs": [
    {
     "name": "stdout",
     "output_type": "stream",
     "text": [
      "Small Index 167\n"
     ]
    }
   ],
   "source": [
    "xmin = data.min()\n",
    "xmax = data.max()\n",
    "[HF,HM] = histClassifier(data,data['Sex'],Bx,By,xmin,xmax)\n",
    "\n"
   ]
  },
  {
   "cell_type": "code",
   "execution_count": 8,
   "metadata": {},
   "outputs": [
    {
     "data": {
      "text/plain": [
       "array([[ 0,  0,  0,  0,  0,  0,  0,  0],\n",
       "       [ 0,  0,  0,  0,  0,  0,  0,  0],\n",
       "       [ 0,  0,  0,  0,  0,  0,  0,  0],\n",
       "       [ 0,  0,  1,  0,  6,  1,  0,  0],\n",
       "       [ 0,  1,  0,  2,  7,  8,  3,  0],\n",
       "       [ 0,  0,  0,  5, 14,  7,  5,  0],\n",
       "       [ 0,  0,  0,  1,  3,  1, 12,  0],\n",
       "       [ 0,  0,  0,  0,  0,  0,  0,  1]], dtype=int32)"
      ]
     },
     "execution_count": 8,
     "metadata": {},
     "output_type": "execute_result"
    }
   ],
   "source": [
    "HM"
   ]
  },
  {
   "cell_type": "code",
   "execution_count": 9,
   "metadata": {},
   "outputs": [
    {
     "name": "stdout",
     "output_type": "stream",
     "text": [
      "4\n",
      "1\n",
      "0\n",
      "1\n"
     ]
    }
   ],
   "source": [
    "ht = 69\n",
    "hs = 17.5\n",
    "heightBin = (np.round((Bx-1)*(ht - xmin['Height'])/(xmax['Height'] - xmin['Height']))).astype('int32')\n",
    "headSpanBin = (np.round((By-1)*(hs - xmin['HandSpan'])/(xmax['HandSpan'] - xmin['HandSpan']))).astype('int32')\n",
    "print(heightBin)\n",
    "print(headSpanBin)\n",
    "print(HF[heightBin][headSpanBin])\n",
    "print(HF[heightBin][headSpanBin] + HM[heightBin][headSpanBin])"
   ]
  },
  {
   "cell_type": "code",
   "execution_count": 10,
   "metadata": {},
   "outputs": [
    {
     "data": {
      "text/plain": [
       "0.0"
      ]
     },
     "execution_count": 10,
     "metadata": {},
     "output_type": "execute_result"
    }
   ],
   "source": [
    "HF[heightBin][headSpanBin]/(HF[heightBin][headSpanBin] + HM[heightBin][headSpanBin])"
   ]
  },
  {
   "cell_type": "code",
   "execution_count": 11,
   "metadata": {},
   "outputs": [
    {
     "name": "stdout",
     "output_type": "stream",
     "text": [
      "89\n",
      "78\n"
     ]
    }
   ],
   "source": [
    "#count of male and female\n",
    "countFemale = data[data['Sex'] == 'Female']['Height'].count()\n",
    "print(countFemale)\n",
    "countMale = data[data['Sex'] == 'Male']['Height'].count()\n",
    "print(countMale)"
   ]
  },
  {
   "cell_type": "code",
   "execution_count": 12,
   "metadata": {
    "scrolled": true
   },
   "outputs": [
    {
     "data": {
      "text/plain": [
       "Height      65.280899\n",
       "HandSpan    19.601124\n",
       "dtype: float64"
      ]
     },
     "execution_count": 12,
     "metadata": {},
     "output_type": "execute_result"
    }
   ],
   "source": [
    "#PDF functions\n",
    "meanFemale = data[['Height','HandSpan']][data['Sex'] == 'Female'].mean()\n",
    "meanFemale"
   ]
  },
  {
   "cell_type": "code",
   "execution_count": 13,
   "metadata": {},
   "outputs": [
    {
     "data": {
      "text/plain": [
       "Height      71.294872\n",
       "HandSpan    22.301282\n",
       "dtype: float64"
      ]
     },
     "execution_count": 13,
     "metadata": {},
     "output_type": "execute_result"
    }
   ],
   "source": [
    "meanMale = data[['Height','HandSpan']][data['Sex'] == 'Male'].mean()\n",
    "meanMale"
   ]
  },
  {
   "cell_type": "code",
   "execution_count": 14,
   "metadata": {},
   "outputs": [
    {
     "data": {
      "text/html": [
       "<div>\n",
       "<style>\n",
       "    .dataframe thead tr:only-child th {\n",
       "        text-align: right;\n",
       "    }\n",
       "\n",
       "    .dataframe thead th {\n",
       "        text-align: left;\n",
       "    }\n",
       "\n",
       "    .dataframe tbody tr th {\n",
       "        vertical-align: top;\n",
       "    }\n",
       "</style>\n",
       "<table border=\"1\" class=\"dataframe\">\n",
       "  <thead>\n",
       "    <tr style=\"text-align: right;\">\n",
       "      <th></th>\n",
       "      <th>Height</th>\n",
       "      <th>HandSpan</th>\n",
       "    </tr>\n",
       "  </thead>\n",
       "  <tbody>\n",
       "    <tr>\n",
       "      <th>Height</th>\n",
       "      <td>7.727017</td>\n",
       "      <td>1.647408</td>\n",
       "    </tr>\n",
       "    <tr>\n",
       "      <th>HandSpan</th>\n",
       "      <td>1.647408</td>\n",
       "      <td>1.756703</td>\n",
       "    </tr>\n",
       "  </tbody>\n",
       "</table>\n",
       "</div>"
      ],
      "text/plain": [
       "            Height  HandSpan\n",
       "Height    7.727017  1.647408\n",
       "HandSpan  1.647408  1.756703"
      ]
     },
     "execution_count": 14,
     "metadata": {},
     "output_type": "execute_result"
    }
   ],
   "source": [
    "CoFemale = data[['Height','HandSpan']][data['Sex'] == 'Female'].cov()\n",
    "CoFemale"
   ]
  },
  {
   "cell_type": "code",
   "execution_count": 15,
   "metadata": {},
   "outputs": [
    {
     "data": {
      "text/html": [
       "<div>\n",
       "<style>\n",
       "    .dataframe thead tr:only-child th {\n",
       "        text-align: right;\n",
       "    }\n",
       "\n",
       "    .dataframe thead th {\n",
       "        text-align: left;\n",
       "    }\n",
       "\n",
       "    .dataframe tbody tr th {\n",
       "        vertical-align: top;\n",
       "    }\n",
       "</style>\n",
       "<table border=\"1\" class=\"dataframe\">\n",
       "  <thead>\n",
       "    <tr style=\"text-align: right;\">\n",
       "      <th></th>\n",
       "      <th>Height</th>\n",
       "      <th>HandSpan</th>\n",
       "    </tr>\n",
       "  </thead>\n",
       "  <tbody>\n",
       "    <tr>\n",
       "      <th>Height</th>\n",
       "      <td>7.041792</td>\n",
       "      <td>1.793124</td>\n",
       "    </tr>\n",
       "    <tr>\n",
       "      <th>HandSpan</th>\n",
       "      <td>1.793124</td>\n",
       "      <td>2.060648</td>\n",
       "    </tr>\n",
       "  </tbody>\n",
       "</table>\n",
       "</div>"
      ],
      "text/plain": [
       "            Height  HandSpan\n",
       "Height    7.041792  1.793124\n",
       "HandSpan  1.793124  2.060648"
      ]
     },
     "execution_count": 15,
     "metadata": {},
     "output_type": "execute_result"
    }
   ],
   "source": [
    "CoMale = data[['Height','HandSpan']][data['Sex'] == 'Male'].cov()\n",
    "CoMale"
   ]
  },
  {
   "cell_type": "code",
   "execution_count": 16,
   "metadata": {},
   "outputs": [
    {
     "data": {
      "text/plain": [
       "pandas.core.frame.DataFrame"
      ]
     },
     "execution_count": 16,
     "metadata": {},
     "output_type": "execute_result"
    }
   ],
   "source": [
    "type(CoFemale)"
   ]
  },
  {
   "cell_type": "code",
   "execution_count": 17,
   "metadata": {},
   "outputs": [
    {
     "data": {
      "text/plain": [
       "10.86012331402638"
      ]
     },
     "execution_count": 17,
     "metadata": {},
     "output_type": "execute_result"
    }
   ],
   "source": [
    "a = CoFemale.as_matrix()\n",
    "Femaledet = np.linalg.det(a)\n",
    "Femaledet"
   ]
  },
  {
   "cell_type": "code",
   "execution_count": 18,
   "metadata": {},
   "outputs": [
    {
     "data": {
      "text/plain": [
       "11.295359402502296"
      ]
     },
     "execution_count": 18,
     "metadata": {},
     "output_type": "execute_result"
    }
   ],
   "source": [
    "m = CoMale.as_matrix()\n",
    "Maledet = np.linalg.det(m)\n",
    "Maledet"
   ]
  },
  {
   "cell_type": "code",
   "execution_count": 19,
   "metadata": {
    "collapsed": true
   },
   "outputs": [],
   "source": [
    "import math"
   ]
  },
  {
   "cell_type": "code",
   "execution_count": 20,
   "metadata": {
    "collapsed": true
   },
   "outputs": [],
   "source": [
    "import math\n",
    "def pdf(mean, coMatrix, coDet, x):\n",
    "    var = float(coDet)**0.5\n",
    "    denom = (2*math.pi*var)**.5\n",
    "    xsubmean = np.matrix(x-mean)\n",
    "    print(\"XsubMean\" , xsubmean)\n",
    "    print(\"XsubMean\" , xsubmean.shape)\n",
    "    invcovariance = np.linalg.inv(coMatrix)\n",
    "    print(\"CobvarianceInverse\",invcovariance)\n",
    "    print(\"CobvarianceInverse\",invcovariance.shape)\n",
    "    meanInvProduct = xsubmean* invcovariance\n",
    "    print(\"meanInvProduct\",meanInvProduct.shape)\n",
    "    print(\"meanInvProduct\",meanInvProduct)\n",
    "    xsubMeanTranspose= np.transpose([np.array(x-mean)])\n",
    "    print(\"xsubMeanTranspose\",xsubMeanTranspose)\n",
    "    print(\"shape\",xsubMeanTranspose.shape)\n",
    "    num = math.exp(-1 *meanInvProduct *xsubMeanTranspose /2 )\n",
    "    return num/denom"
   ]
  },
  {
   "cell_type": "code",
   "execution_count": 21,
   "metadata": {},
   "outputs": [
    {
     "name": "stdout",
     "output_type": "stream",
     "text": [
      "XsubMean [[ 3.71910112 -2.1011236 ]]\n",
      "XsubMean (1, 2)\n",
      "CobvarianceInverse [[ 0.16175721 -0.15169331]\n",
      " [-0.15169331  0.71150365]]\n",
      "CobvarianceInverse (2, 2)\n",
      "meanInvProduct (1, 2)\n",
      "meanInvProduct [[ 0.92031782 -2.05911987]]\n",
      "xsubMeanTranspose [[ 3.71910112]\n",
      " [-2.1011236 ]]\n",
      "shape (2, 1)\n",
      "XsubMean [[-2.29487179 -4.80128205]]\n",
      "XsubMean (1, 2)\n",
      "CobvarianceInverse [[ 0.18243312 -0.15874869]\n",
      " [-0.15874869  0.62342342]]\n",
      "CobvarianceInverse (2, 2)\n",
      "meanInvProduct (1, 2)\n",
      "meanInvProduct [[ 0.34353662 -2.62892376]]\n",
      "xsubMeanTranspose [[-2.29487179]\n",
      " [-4.80128205]]\n",
      "shape (2, 1)\n",
      "Probabilty of females  0.898808650526\n"
     ]
    }
   ],
   "source": [
    "x = 69\n",
    "y = 17.5\n",
    "pdfFemale = pdf(meanFemale,a,Femaledet,[x,y])\n",
    "pdfMale = pdf(meanMale,m,Maledet,[x,y])\n",
    "ProbFemale = countFemale * pdfFemale / (countMale * pdfMale + countFemale * pdfFemale  )\n",
    "print(\"Probabilty of females \",ProbFemale)"
   ]
  },
  {
   "cell_type": "code",
   "execution_count": null,
   "metadata": {
    "collapsed": true
   },
   "outputs": [],
   "source": []
  },
  {
   "cell_type": "code",
   "execution_count": null,
   "metadata": {
    "collapsed": true
   },
   "outputs": [],
   "source": []
  },
  {
   "cell_type": "code",
   "execution_count": null,
   "metadata": {
    "collapsed": true
   },
   "outputs": [],
   "source": []
  },
  {
   "cell_type": "code",
   "execution_count": null,
   "metadata": {
    "collapsed": true
   },
   "outputs": [],
   "source": []
  }
 ],
 "metadata": {
  "kernelspec": {
   "display_name": "Python 3",
   "language": "python",
   "name": "python3"
  },
  "language_info": {
   "codemirror_mode": {
    "name": "ipython",
    "version": 3
   },
   "file_extension": ".py",
   "mimetype": "text/x-python",
   "name": "python",
   "nbconvert_exporter": "python",
   "pygments_lexer": "ipython3",
   "version": "3.6.1"
  }
 },
 "nbformat": 4,
 "nbformat_minor": 2
}
