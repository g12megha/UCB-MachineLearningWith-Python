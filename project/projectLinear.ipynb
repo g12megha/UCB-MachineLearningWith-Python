{
 "cells": [
  {
   "cell_type": "code",
   "execution_count": 62,
   "metadata": {
    "collapsed": true
   },
   "outputs": [],
   "source": [
    "import numpy as np\n",
    "import matplotlib.pyplot as plt\n",
    "import pandas as pd\n",
    "from sklearn.model_selection import train_test_split"
   ]
  },
  {
   "cell_type": "code",
   "execution_count": 63,
   "metadata": {},
   "outputs": [],
   "source": [
    "data = pd.read_csv('vertebral_2C.csv')"
   ]
  },
  {
   "cell_type": "code",
   "execution_count": 64,
   "metadata": {},
   "outputs": [
    {
     "data": {
      "text/html": [
       "<div>\n",
       "<style>\n",
       "    .dataframe thead tr:only-child th {\n",
       "        text-align: right;\n",
       "    }\n",
       "\n",
       "    .dataframe thead th {\n",
       "        text-align: left;\n",
       "    }\n",
       "\n",
       "    .dataframe tbody tr th {\n",
       "        vertical-align: top;\n",
       "    }\n",
       "</style>\n",
       "<table border=\"1\" class=\"dataframe\">\n",
       "  <thead>\n",
       "    <tr style=\"text-align: right;\">\n",
       "      <th></th>\n",
       "      <th>pelvic incidence</th>\n",
       "      <th>pelvic tilt</th>\n",
       "      <th>lumbar lordosis angle</th>\n",
       "      <th>sacral slope</th>\n",
       "      <th>pelvic radius</th>\n",
       "      <th>grade of spondylolisthesis</th>\n",
       "      <th>Class Label</th>\n",
       "    </tr>\n",
       "  </thead>\n",
       "  <tbody>\n",
       "    <tr>\n",
       "      <th>0</th>\n",
       "      <td>63.03</td>\n",
       "      <td>22.55</td>\n",
       "      <td>39.61</td>\n",
       "      <td>40.48</td>\n",
       "      <td>98.67</td>\n",
       "      <td>-0.25</td>\n",
       "      <td>AB</td>\n",
       "    </tr>\n",
       "    <tr>\n",
       "      <th>1</th>\n",
       "      <td>39.06</td>\n",
       "      <td>10.06</td>\n",
       "      <td>25.02</td>\n",
       "      <td>29.00</td>\n",
       "      <td>114.41</td>\n",
       "      <td>4.56</td>\n",
       "      <td>AB</td>\n",
       "    </tr>\n",
       "    <tr>\n",
       "      <th>2</th>\n",
       "      <td>68.83</td>\n",
       "      <td>22.22</td>\n",
       "      <td>50.09</td>\n",
       "      <td>46.61</td>\n",
       "      <td>105.99</td>\n",
       "      <td>-3.53</td>\n",
       "      <td>AB</td>\n",
       "    </tr>\n",
       "    <tr>\n",
       "      <th>3</th>\n",
       "      <td>69.30</td>\n",
       "      <td>24.65</td>\n",
       "      <td>44.31</td>\n",
       "      <td>44.64</td>\n",
       "      <td>101.87</td>\n",
       "      <td>11.21</td>\n",
       "      <td>AB</td>\n",
       "    </tr>\n",
       "    <tr>\n",
       "      <th>4</th>\n",
       "      <td>49.71</td>\n",
       "      <td>9.65</td>\n",
       "      <td>28.32</td>\n",
       "      <td>40.06</td>\n",
       "      <td>108.17</td>\n",
       "      <td>7.92</td>\n",
       "      <td>AB</td>\n",
       "    </tr>\n",
       "  </tbody>\n",
       "</table>\n",
       "</div>"
      ],
      "text/plain": [
       "   pelvic incidence  pelvic tilt  lumbar lordosis angle  sacral slope  \\\n",
       "0             63.03        22.55                  39.61         40.48   \n",
       "1             39.06        10.06                  25.02         29.00   \n",
       "2             68.83        22.22                  50.09         46.61   \n",
       "3             69.30        24.65                  44.31         44.64   \n",
       "4             49.71         9.65                  28.32         40.06   \n",
       "\n",
       "   pelvic radius  grade of spondylolisthesis Class Label  \n",
       "0          98.67                       -0.25          AB  \n",
       "1         114.41                        4.56          AB  \n",
       "2         105.99                       -3.53          AB  \n",
       "3         101.87                       11.21          AB  \n",
       "4         108.17                        7.92          AB  "
      ]
     },
     "execution_count": 64,
     "metadata": {},
     "output_type": "execute_result"
    }
   ],
   "source": [
    "data.head()"
   ]
  },
  {
   "cell_type": "markdown",
   "metadata": {},
   "source": [
    "data[0][7] = \"Flow1\"\n",
    "data[0][8] = \"Flow2\"\n",
    "data[0][10] = \"Nitrogen1\"\n",
    "data[0][11] = \"Nitogen2\"\n",
    "data[0][13] = \"Fre1\"\n",
    "data[0][14] = \"Fre2\""
   ]
  },
  {
   "cell_type": "code",
   "execution_count": 65,
   "metadata": {},
   "outputs": [],
   "source": [
    "def model(X,T):\n",
    "    a = np.ones(shape=(len(X),1))\n",
    "    a = pd.DataFrame(a,columns=['bias'])\n",
    "    Xa = pd.concat([a,X],axis=1)\n",
    "    Xamatrix = Xa.as_matrix()\n",
    "    Xpinv = np.linalg.pinv(Xamatrix)\n",
    "    W = Xpinv.dot(T)\n",
    "    return W,Xa"
   ]
  },
  {
   "cell_type": "code",
   "execution_count": 66,
   "metadata": {},
   "outputs": [],
   "source": [
    "def AccuracyTrainData(Xa,W,T):\n",
    "    trainOutput = Xa.dot(W)\n",
    "    predtrainOutputbinary = np.ones(trainOutput.shape[0])\n",
    "    for i in range(len(trainOutput)):\n",
    "        if trainOutput[i] < 0:\n",
    "            predtrainOutputbinary[i] = -1\n",
    "    predtrainOutputbinary\n",
    "    TP=0\n",
    "    TN=0\n",
    "    FP=0\n",
    "    FN=0\n",
    "    for i in range(len(predtrainOutputbinary)):\n",
    "        if (T[i] == 1 and predtrainOutputbinary[i] == 1):\n",
    "            TP = TP +1\n",
    "        elif(T[i] == -1 and predtrainOutputbinary[i] == 1):\n",
    "            FP = FP + 1\n",
    "        elif (T[i] == -1 and predtrainOutputbinary[i] == -1):\n",
    "            TN = TN +1\n",
    "        else:\n",
    "            FN = FN +1\n",
    "    print(\"TP \" , TP)\n",
    "    print(\"TN \" ,TN)\n",
    "    print(\"FP \", FP)\n",
    "    print(\"FN \", FN)\n",
    "    accuracybinary = (TP + TN) / (TP + TN + FP + FN)\n",
    "    print(\"Accuracy\",accuracybinary)\n",
    "    sensitivity = TP / (TP + FN)\n",
    "    print(\"sensitivity\",sensitivity)\n",
    "    specificity = TN / ( TN + FP)\n",
    "    print(\"specificity\",specificity)\n",
    "    PPV = TP / (TP + FP)\n",
    "    print(\"PPV\",PPV)\n"
   ]
  },
  {
   "cell_type": "code",
   "execution_count": 67,
   "metadata": {},
   "outputs": [
    {
     "name": "stdout",
     "output_type": "stream",
     "text": [
      "TP  196\n",
      "TN  68\n",
      "FP  32\n",
      "FN  14\n",
      "Accuracy 0.8516129032258064\n",
      "sensitivity 0.9333333333333333\n",
      "specificity 0.68\n",
      "PPV 0.8596491228070176\n"
     ]
    }
   ],
   "source": [
    "#calculate accuracy for whole data\n",
    "wholeData = data.drop(['Class Label'],axis=1)\n",
    "wholeDataTarget = data['Class Label'].apply(lambda x: 1 if x == 'AB' else -1)\n",
    "W,wholeDataA = model(wholeData,wholeDataTarget)\n",
    "AccuracyTrainData(wholeDataA,W,wholeDataTarget)"
   ]
  },
  {
   "cell_type": "code",
   "execution_count": 68,
   "metadata": {},
   "outputs": [],
   "source": [
    "X_train, X_test, y_train, y_test = train_test_split(wholeData, wholeDataTarget, test_size=0.33, random_state=42)"
   ]
  },
  {
   "cell_type": "code",
   "execution_count": 69,
   "metadata": {},
   "outputs": [],
   "source": [
    "y_train = pd.DataFrame(y_train).reset_index().drop(['index'],axis=1)\n",
    "y_test = pd.DataFrame(y_test).reset_index().drop(['index'],axis=1)\n",
    "X_train = X_train.reset_index().drop(['index'],axis=1)\n",
    "X_test = X_test.reset_index().drop(['index'],axis=1)"
   ]
  },
  {
   "cell_type": "code",
   "execution_count": 79,
   "metadata": {},
   "outputs": [
    {
     "data": {
      "text/plain": [
       "pandas.core.series.Series"
      ]
     },
     "execution_count": 79,
     "metadata": {},
     "output_type": "execute_result"
    }
   ],
   "source": [
    "type(wholeDataTarget)"
   ]
  },
  {
   "cell_type": "code",
   "execution_count": 73,
   "metadata": {},
   "outputs": [],
   "source": [
    "###W for train data\n",
    "Wtest,_ = model(X_train,y_train)"
   ]
  },
  {
   "cell_type": "code",
   "execution_count": 86,
   "metadata": {},
   "outputs": [
    {
     "name": "stdout",
     "output_type": "stream",
     "text": [
      "TP  69\n",
      "TN  21\n",
      "FP  8\n",
      "FN  5\n",
      "Accuracy 0.8737864077669902\n",
      "sensitivity 0.9324324324324325\n",
      "specificity 0.7241379310344828\n",
      "PPV 0.8961038961038961\n"
     ]
    }
   ],
   "source": [
    "atest = np.ones(shape=(len(X_test),1))\n",
    "atest = pd.DataFrame(atest,columns=['bias'])\n",
    "Xatest = pd.concat([atest,X_test],axis=1)\n",
    "AccuracyTrainData(Xatest,W,y_test['Class Label'])"
   ]
  },
  {
   "cell_type": "code",
   "execution_count": 87,
   "metadata": {},
   "outputs": [],
   "source": [
    "###start multiclass classification \n",
    "datamul = pd.read_csv('vertebral_3C.csv')\n"
   ]
  },
  {
   "cell_type": "code",
   "execution_count": 89,
   "metadata": {},
   "outputs": [],
   "source": [
    "Tmulcol = datamul['Class Label']\n",
    "def changeInputs(x):\n",
    "    if x == 'DH':\n",
    "        return 0\n",
    "    elif x == 'NO':\n",
    "        return 1\n",
    "    else:\n",
    "        return 2\n",
    "Tmulcol = Tmulcol.apply(lambda x : changeInputs(x))\n",
    "Tmul = pd.get_dummies(Tmulcol)\n",
    "for i in Tmul.columns:\n",
    "    Tmul[i] = Tmul[i].apply(lambda x : -1 if x == 0 else x)"
   ]
  },
  {
   "cell_type": "code",
   "execution_count": 94,
   "metadata": {},
   "outputs": [],
   "source": [
    "Wmul,Xamul= model(wholeData,Tmul)"
   ]
  },
  {
   "cell_type": "code",
   "execution_count": 105,
   "metadata": {},
   "outputs": [],
   "source": [
    "def AccuracyMul(X,W,T):\n",
    "    trainOutputMult = X.dot(W)\n",
    "    trainOutputMult\n",
    "    predtrainOutputmult = np.zeros(trainOutputMult.shape[0],dtype=int)\n",
    "    # predtrainOutputmult[i] = pd.a(trainOutputMult[i:i+1,:])\n",
    "    predtrainOutputmult= trainOutputMult.idxmax(axis=1)\n",
    "    predtrainOutputmult.shape\n",
    "    confMatrix = np.zeros(shape=(3,3),dtype=int)\n",
    "    for i in range(len(predtrainOutputmult)):\n",
    "        row = T[i]\n",
    "        col = predtrainOutputmult[i]\n",
    "        confMatrix[row,col] = confMatrix[row,col] + 1;\n",
    "    print(\"Confusion matrix\",confMatrix)\n",
    "    ppv = np.zeros(shape= (3,1))\n",
    "    #calculate PPV for each class\n",
    "    for i in range(3):\n",
    "        TPi = confMatrix[i][i]\n",
    "        FPI = confMatrix[:,i:i+1].sum()\n",
    "        ppv[i] = TPi/(FPI)\n",
    "    print(\"PPV max \" , ppv.max())\n",
    "    print(\" PPV min \" , ppv.min() )\n",
    "    print(\" PPV max class \" , np.argmax(ppv))\n",
    "    print(\"PPv min class\" , np.argmin(ppv) )\n"
   ]
  },
  {
   "cell_type": "code",
   "execution_count": 106,
   "metadata": {},
   "outputs": [
    {
     "name": "stdout",
     "output_type": "stream",
     "text": [
      "Confusion matrix [[ 33  22   5]\n",
      " [  8  81  11]\n",
      " [  2   8 140]]\n",
      "PPV max  0.897435897436\n",
      " PPV min  0.72972972973\n",
      " PPV max class  2\n",
      "PPv min class 1\n"
     ]
    }
   ],
   "source": [
    "##ppv for whole data set\n",
    "AccuracyMul(Xamul,Wmul,Tmulcol)"
   ]
  },
  {
   "cell_type": "code",
   "execution_count": 131,
   "metadata": {},
   "outputs": [],
   "source": [
    "#use cross validation \n",
    "X_train, X_test, y_train, y_test = train_test_split(wholeData,datamul['Class Label'] , test_size=0.33, random_state=42)"
   ]
  },
  {
   "cell_type": "code",
   "execution_count": 132,
   "metadata": {},
   "outputs": [],
   "source": [
    "y_train = pd.DataFrame(y_train).reset_index().drop(['index'],axis=1)\n",
    "y_test = pd.DataFrame(y_test).reset_index().drop(['index'],axis=1)\n",
    "X_train = X_train.reset_index().drop(['index'],axis=1)\n",
    "X_test = X_test.reset_index().drop(['index'],axis=1)"
   ]
  },
  {
   "cell_type": "code",
   "execution_count": null,
   "metadata": {},
   "outputs": [],
   "source": []
  },
  {
   "cell_type": "code",
   "execution_count": 133,
   "metadata": {},
   "outputs": [],
   "source": [
    "def changeInputs(x):\n",
    "    if x == 'DH':\n",
    "        return 0\n",
    "    elif x == 'NO':\n",
    "        return 1\n",
    "    else:\n",
    "        return 2\n",
    "def reformY(y):\n",
    "    y = y.apply(lambda x : changeInputs(x))\n",
    "    y_mul= pd.get_dummies(y)\n",
    "    for i in y_mul.columns:\n",
    "        y_mul[i] = y_mul[i].apply(lambda x : -1 if x == 0 else x)\n",
    "    return y_mul,y\n",
    "y_train_mul,y_train = reformY(y_train['Class Label'])\n",
    "y_test_mul,y_test = reformY(y_test['Class Label'])"
   ]
  },
  {
   "cell_type": "code",
   "execution_count": 134,
   "metadata": {},
   "outputs": [],
   "source": [
    "Wmultrain,_= model(X_train,y_train_mul)"
   ]
  },
  {
   "cell_type": "code",
   "execution_count": 136,
   "metadata": {},
   "outputs": [],
   "source": [
    "atestmul = np.ones(shape=(len(X_test),1))\n",
    "atestmul = pd.DataFrame(atestmul,columns=['bias'])\n",
    "Xatestmul = pd.concat([atestmul,X_test],axis=1)\n"
   ]
  },
  {
   "cell_type": "code",
   "execution_count": 137,
   "metadata": {},
   "outputs": [
    {
     "name": "stdout",
     "output_type": "stream",
     "text": [
      "Confusion matrix [[ 5 12  3]\n",
      " [ 2 22  5]\n",
      " [ 0  4 50]]\n",
      "PPV max  0.862068965517\n",
      " PPV min  0.578947368421\n",
      " PPV max class  2\n",
      "PPv min class 1\n"
     ]
    }
   ],
   "source": [
    "##ppv for whole data set\n",
    "AccuracyMul(Xatestmul,Wmultrain,y_test)"
   ]
  },
  {
   "cell_type": "code",
   "execution_count": null,
   "metadata": {},
   "outputs": [],
   "source": []
  },
  {
   "cell_type": "code",
   "execution_count": null,
   "metadata": {
    "collapsed": true
   },
   "outputs": [],
   "source": []
  },
  {
   "cell_type": "code",
   "execution_count": null,
   "metadata": {},
   "outputs": [],
   "source": []
  },
  {
   "cell_type": "code",
   "execution_count": null,
   "metadata": {
    "collapsed": true
   },
   "outputs": [],
   "source": []
  },
  {
   "cell_type": "code",
   "execution_count": null,
   "metadata": {
    "collapsed": true
   },
   "outputs": [],
   "source": []
  },
  {
   "cell_type": "code",
   "execution_count": null,
   "metadata": {
    "collapsed": true
   },
   "outputs": [],
   "source": []
  },
  {
   "cell_type": "code",
   "execution_count": null,
   "metadata": {
    "collapsed": true
   },
   "outputs": [],
   "source": []
  },
  {
   "cell_type": "code",
   "execution_count": null,
   "metadata": {
    "collapsed": true
   },
   "outputs": [],
   "source": []
  }
 ],
 "metadata": {
  "kernelspec": {
   "display_name": "Python 3",
   "language": "python",
   "name": "python3"
  },
  "language_info": {
   "codemirror_mode": {
    "name": "ipython",
    "version": 3
   },
   "file_extension": ".py",
   "mimetype": "text/x-python",
   "name": "python",
   "nbconvert_exporter": "python",
   "pygments_lexer": "ipython3",
   "version": "3.6.1"
  }
 },
 "nbformat": 4,
 "nbformat_minor": 2
}
