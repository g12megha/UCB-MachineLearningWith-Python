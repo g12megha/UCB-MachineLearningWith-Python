{
 "cells": [
  {
   "cell_type": "code",
   "execution_count": 27,
   "metadata": {
    "collapsed": true
   },
   "outputs": [],
   "source": [
    "import numpy as np\n",
    "import matplotlib.pyplot as plt\n",
    "import pandas as pd"
   ]
  },
  {
   "cell_type": "code",
   "execution_count": 28,
   "metadata": {},
   "outputs": [],
   "source": [
    "data = pd.read_csv('vertebral_2C.csv')"
   ]
  },
  {
   "cell_type": "code",
   "execution_count": 29,
   "metadata": {},
   "outputs": [
    {
     "data": {
      "text/html": [
       "<div>\n",
       "<style>\n",
       "    .dataframe thead tr:only-child th {\n",
       "        text-align: right;\n",
       "    }\n",
       "\n",
       "    .dataframe thead th {\n",
       "        text-align: left;\n",
       "    }\n",
       "\n",
       "    .dataframe tbody tr th {\n",
       "        vertical-align: top;\n",
       "    }\n",
       "</style>\n",
       "<table border=\"1\" class=\"dataframe\">\n",
       "  <thead>\n",
       "    <tr style=\"text-align: right;\">\n",
       "      <th></th>\n",
       "      <th>pelvic incidence</th>\n",
       "      <th>pelvic tilt</th>\n",
       "      <th>lumbar lordosis angle</th>\n",
       "      <th>sacral slope</th>\n",
       "      <th>pelvic radius</th>\n",
       "      <th>grade of spondylolisthesis</th>\n",
       "      <th>Class Label</th>\n",
       "    </tr>\n",
       "  </thead>\n",
       "  <tbody>\n",
       "    <tr>\n",
       "      <th>0</th>\n",
       "      <td>63.03</td>\n",
       "      <td>22.55</td>\n",
       "      <td>39.61</td>\n",
       "      <td>40.48</td>\n",
       "      <td>98.67</td>\n",
       "      <td>-0.25</td>\n",
       "      <td>AB</td>\n",
       "    </tr>\n",
       "    <tr>\n",
       "      <th>1</th>\n",
       "      <td>39.06</td>\n",
       "      <td>10.06</td>\n",
       "      <td>25.02</td>\n",
       "      <td>29.00</td>\n",
       "      <td>114.41</td>\n",
       "      <td>4.56</td>\n",
       "      <td>AB</td>\n",
       "    </tr>\n",
       "    <tr>\n",
       "      <th>2</th>\n",
       "      <td>68.83</td>\n",
       "      <td>22.22</td>\n",
       "      <td>50.09</td>\n",
       "      <td>46.61</td>\n",
       "      <td>105.99</td>\n",
       "      <td>-3.53</td>\n",
       "      <td>AB</td>\n",
       "    </tr>\n",
       "    <tr>\n",
       "      <th>3</th>\n",
       "      <td>69.30</td>\n",
       "      <td>24.65</td>\n",
       "      <td>44.31</td>\n",
       "      <td>44.64</td>\n",
       "      <td>101.87</td>\n",
       "      <td>11.21</td>\n",
       "      <td>AB</td>\n",
       "    </tr>\n",
       "    <tr>\n",
       "      <th>4</th>\n",
       "      <td>49.71</td>\n",
       "      <td>9.65</td>\n",
       "      <td>28.32</td>\n",
       "      <td>40.06</td>\n",
       "      <td>108.17</td>\n",
       "      <td>7.92</td>\n",
       "      <td>AB</td>\n",
       "    </tr>\n",
       "  </tbody>\n",
       "</table>\n",
       "</div>"
      ],
      "text/plain": [
       "   pelvic incidence  pelvic tilt  lumbar lordosis angle  sacral slope  \\\n",
       "0             63.03        22.55                  39.61         40.48   \n",
       "1             39.06        10.06                  25.02         29.00   \n",
       "2             68.83        22.22                  50.09         46.61   \n",
       "3             69.30        24.65                  44.31         44.64   \n",
       "4             49.71         9.65                  28.32         40.06   \n",
       "\n",
       "   pelvic radius  grade of spondylolisthesis Class Label  \n",
       "0          98.67                       -0.25          AB  \n",
       "1         114.41                        4.56          AB  \n",
       "2         105.99                       -3.53          AB  \n",
       "3         101.87                       11.21          AB  \n",
       "4         108.17                        7.92          AB  "
      ]
     },
     "execution_count": 29,
     "metadata": {},
     "output_type": "execute_result"
    }
   ],
   "source": [
    "data.head()"
   ]
  },
  {
   "cell_type": "markdown",
   "metadata": {},
   "source": [
    "data[0][7] = \"Flow1\"\n",
    "data[0][8] = \"Flow2\"\n",
    "data[0][10] = \"Nitrogen1\"\n",
    "data[0][11] = \"Nitogen2\"\n",
    "data[0][13] = \"Fre1\"\n",
    "data[0][14] = \"Fre2\""
   ]
  },
  {
   "cell_type": "code",
   "execution_count": 30,
   "metadata": {
    "collapsed": true
   },
   "outputs": [],
   "source": [
    "#data1= pd.DataFrame(data[1:,:],columns=data[0])"
   ]
  },
  {
   "cell_type": "code",
   "execution_count": 31,
   "metadata": {
    "collapsed": true
   },
   "outputs": [],
   "source": [
    "X = data.drop(['Class Label'],axis=1)\n"
   ]
  },
  {
   "cell_type": "code",
   "execution_count": 32,
   "metadata": {
    "collapsed": true
   },
   "outputs": [],
   "source": [
    "T = data['Class Label'].apply(lambda x: 1 if x == 'AB' else -1)"
   ]
  },
  {
   "cell_type": "code",
   "execution_count": 33,
   "metadata": {},
   "outputs": [
    {
     "data": {
      "text/plain": [
       "array([[   1.  ,   63.03,   22.55, ...,   40.48,   98.67,   -0.25],\n",
       "       [   1.  ,   39.06,   10.06, ...,   29.  ,  114.41,    4.56],\n",
       "       [   1.  ,   68.83,   22.22, ...,   46.61,  105.99,   -3.53],\n",
       "       ..., \n",
       "       [   1.  ,   61.45,   22.69, ...,   38.75,  125.67,   -2.71],\n",
       "       [   1.  ,   45.25,    8.69, ...,   36.56,  118.55,    0.21],\n",
       "       [   1.  ,   33.84,    5.07, ...,   28.77,  123.95,   -0.2 ]])"
      ]
     },
     "execution_count": 33,
     "metadata": {},
     "output_type": "execute_result"
    }
   ],
   "source": [
    "a = np.ones(shape=(len(X),1))\n",
    "a = pd.DataFrame(a,columns=['bias'])\n",
    "Xa = pd.concat([a,X],axis=1)\n",
    "Xamatrix = Xa.as_matrix()\n",
    "Xamatrix"
   ]
  },
  {
   "cell_type": "code",
   "execution_count": null,
   "metadata": {},
   "outputs": [],
   "source": []
  },
  {
   "cell_type": "code",
   "execution_count": 34,
   "metadata": {
    "collapsed": true
   },
   "outputs": [],
   "source": [
    "Xpinv = np.linalg.pinv(Xamatrix)"
   ]
  },
  {
   "cell_type": "code",
   "execution_count": 35,
   "metadata": {},
   "outputs": [
    {
     "data": {
      "text/plain": [
       "array([ 3.28627999, -3.09249233,  3.10369415,  0.00703623,  3.07617879,\n",
       "       -0.02610257,  0.01081927])"
      ]
     },
     "execution_count": 35,
     "metadata": {},
     "output_type": "execute_result"
    }
   ],
   "source": [
    "W = Xpinv.dot(T)\n",
    "W"
   ]
  },
  {
   "cell_type": "code",
   "execution_count": null,
   "metadata": {
    "collapsed": true
   },
   "outputs": [],
   "source": []
  },
  {
   "cell_type": "code",
   "execution_count": 36,
   "metadata": {},
   "outputs": [
    {
     "name": "stdout",
     "output_type": "stream",
     "text": [
      "TP  196\n",
      "TN  68\n",
      "FP  32\n",
      "FN  14\n"
     ]
    }
   ],
   "source": [
    "trainOutput = Xa.dot(W)\n",
    "trainOutput\n",
    "predtrainOutputbinary = np.ones(trainOutput.shape[0])\n",
    "for i in range(len(trainOutput)):\n",
    "    if trainOutput[i] < 0:\n",
    "        predtrainOutputbinary[i] = -1\n",
    "predtrainOutputbinary\n",
    "TP=0\n",
    "TN=0\n",
    "FP=0\n",
    "FN=0\n",
    "for i in range(len(predtrainOutputbinary)):\n",
    "    if (T[i] == 1 and predtrainOutputbinary[i] == 1):\n",
    "        TP = TP +1\n",
    "    elif(T[i] == -1 and predtrainOutputbinary[i] == 1):\n",
    "        FP = FP + 1\n",
    "    elif (T[i] == -1 and predtrainOutputbinary[i] == -1):\n",
    "        TN = TN +1\n",
    "    else:\n",
    "        FN = FN +1\n",
    "print(\"TP \" , TP)\n",
    "print(\"TN \" ,TN)\n",
    "print(\"FP \", FP)\n",
    "print(\"FN \", FN)"
   ]
  },
  {
   "cell_type": "code",
   "execution_count": 37,
   "metadata": {},
   "outputs": [
    {
     "data": {
      "text/plain": [
       "0.8516129032258064"
      ]
     },
     "execution_count": 37,
     "metadata": {},
     "output_type": "execute_result"
    }
   ],
   "source": [
    "accuracybinary = (TP + TN) / (TP + TN + FP + FN)\n",
    "accuracybinary"
   ]
  },
  {
   "cell_type": "code",
   "execution_count": 38,
   "metadata": {},
   "outputs": [
    {
     "data": {
      "text/plain": [
       "0.9333333333333333"
      ]
     },
     "execution_count": 38,
     "metadata": {},
     "output_type": "execute_result"
    }
   ],
   "source": [
    "sensitivity = TP / (TP + FN)\n",
    "sensitivity"
   ]
  },
  {
   "cell_type": "code",
   "execution_count": 39,
   "metadata": {},
   "outputs": [
    {
     "data": {
      "text/plain": [
       "0.68"
      ]
     },
     "execution_count": 39,
     "metadata": {},
     "output_type": "execute_result"
    }
   ],
   "source": [
    "specificity = TN / ( TN + FP)\n",
    "specificity"
   ]
  },
  {
   "cell_type": "code",
   "execution_count": 40,
   "metadata": {},
   "outputs": [
    {
     "data": {
      "text/plain": [
       "0.8596491228070176"
      ]
     },
     "execution_count": 40,
     "metadata": {},
     "output_type": "execute_result"
    }
   ],
   "source": [
    "PPV = TP / (TP + FP)\n",
    "PPV"
   ]
  },
  {
   "cell_type": "code",
   "execution_count": null,
   "metadata": {},
   "outputs": [],
   "source": []
  },
  {
   "cell_type": "code",
   "execution_count": 223,
   "metadata": {
    "collapsed": true
   },
   "outputs": [],
   "source": [
    "a = np.ones(shape=(50,1))\n",
    "xatest = np.concatenate((a,test_data[1:,:]),axis=1)"
   ]
  },
  {
   "cell_type": "code",
   "execution_count": null,
   "metadata": {
    "collapsed": true
   },
   "outputs": [],
   "source": []
  },
  {
   "cell_type": "code",
   "execution_count": 224,
   "metadata": {},
   "outputs": [
    {
     "data": {
      "text/plain": [
       "(51, 15)"
      ]
     },
     "execution_count": 224,
     "metadata": {},
     "output_type": "execute_result"
    }
   ],
   "source": [
    "test_data.shape"
   ]
  },
  {
   "cell_type": "code",
   "execution_count": 225,
   "metadata": {},
   "outputs": [
    {
     "data": {
      "text/plain": [
       "array([-0.23738757028648724, -1.1004610735880167, 1.0809319627350167,\n",
       "       -1.129995667451246, -0.9424211835495389, -0.4203467629520403,\n",
       "       1.194618389545151, -0.9378304594229214, -0.32587125845251885,\n",
       "       -0.27254044885017625, 0.9318372316106751, -0.282205427425007,\n",
       "       -0.21172900925063567, -1.039494650956153, 1.2290151058958199,\n",
       "       -0.23460155029107452, -0.4591618430151547, -0.33646129053701923,\n",
       "       -0.27966891219696444, 1.1006326588363866, -0.3520822187080215,\n",
       "       -0.35023289700930493, -0.9797649271164327, -0.39890809506870895,\n",
       "       -0.9966440738810657, -0.27467158238132017, 0.9638537468444631,\n",
       "       -1.0145624260065678, -1.0019897545804803, -1.0690086559042615,\n",
       "       0.27488969955196296, 1.1776605189951312, 0.24408002029287493,\n",
       "       1.0009467543507875, -0.3311819497576264, -0.2083010067837812,\n",
       "       -0.15317365185770507, -0.4015257343342382, 0.8374456805335064,\n",
       "       -0.3815962236561301, 1.0304151095695064, -1.0271350974326552,\n",
       "       -0.1255219922063345, -0.3082399570495331, -0.2068461060400477,\n",
       "       0.7717819748237301, -1.072762885609235, 0.8896746333855365,\n",
       "       -0.987871813838246, 0.9572934806669859], dtype=object)"
      ]
     },
     "execution_count": 225,
     "metadata": {},
     "output_type": "execute_result"
    }
   ],
   "source": [
    "outY = xatest.dot(W)\n",
    "outY"
   ]
  },
  {
   "cell_type": "code",
   "execution_count": 318,
   "metadata": {
    "collapsed": true
   },
   "outputs": [],
   "source": [
    "predict = np.ones(shape=outY.shape)"
   ]
  },
  {
   "cell_type": "code",
   "execution_count": 320,
   "metadata": {},
   "outputs": [
    {
     "data": {
      "text/plain": [
       "(50,)"
      ]
     },
     "execution_count": 320,
     "metadata": {},
     "output_type": "execute_result"
    }
   ],
   "source": [
    "for i in range(len(outY)):\n",
    "    if outY[i] < 0:\n",
    "        predict[i] = -1\n",
    "predict\n",
    "predict.shape"
   ]
  },
  {
   "cell_type": "code",
   "execution_count": 67,
   "metadata": {},
   "outputs": [],
   "source": [
    "###start multiclass classification \n",
    "datamul = pd.read_csv('vertebral_3C.csv')\n"
   ]
  },
  {
   "cell_type": "code",
   "execution_count": 69,
   "metadata": {},
   "outputs": [
    {
     "data": {
      "text/plain": [
       "'DH'"
      ]
     },
     "execution_count": 69,
     "metadata": {},
     "output_type": "execute_result"
    }
   ],
   "source": [
    "Tmulcol[0]"
   ]
  },
  {
   "cell_type": "code",
   "execution_count": 72,
   "metadata": {},
   "outputs": [],
   "source": [
    "Tmulcol = datamul['Class Label']\n",
    "def changeInputs(x):\n",
    "    if x == 'DH':\n",
    "        return 0\n",
    "    elif x == 'NO':\n",
    "        return 1\n",
    "    else:\n",
    "        return 2\n",
    "Tmulcol = Tmulcol.apply(lambda x : changeInputs(x))\n",
    "        \n",
    "Tmul = pd.get_dummies(Tmulcol)\n"
   ]
  },
  {
   "cell_type": "code",
   "execution_count": null,
   "metadata": {},
   "outputs": [],
   "source": []
  },
  {
   "cell_type": "code",
   "execution_count": 74,
   "metadata": {
    "collapsed": true
   },
   "outputs": [],
   "source": [
    "for i in Tmul.columns:\n",
    "    Tmul[i] = Tmul[i].apply(lambda x : -1 if x == 0 else x)\n",
    "Wmul = Xpinv.dot(Tmul)"
   ]
  },
  {
   "cell_type": "code",
   "execution_count": null,
   "metadata": {},
   "outputs": [],
   "source": []
  },
  {
   "cell_type": "code",
   "execution_count": 77,
   "metadata": {},
   "outputs": [
    {
     "data": {
      "text/plain": [
       "array([[  2.12204076e+00,  -3.28627999e+00,   1.64239232e-01],\n",
       "       [  1.81131978e+00,   3.09249233e+00,  -4.90381211e+00],\n",
       "       [ -1.79823559e+00,  -3.10369415e+00,   4.90192974e+00],\n",
       "       [ -1.24784149e-02,  -7.03623133e-03,   1.95146462e-02],\n",
       "       [ -1.83173387e+00,  -3.07617879e+00,   4.90791267e+00],\n",
       "       [ -1.19944611e-02,   2.61025731e-02,  -1.41081120e-02],\n",
       "       [ -9.38587110e-04,  -1.08192702e-02,   1.17578573e-02]])"
      ]
     },
     "execution_count": 77,
     "metadata": {},
     "output_type": "execute_result"
    }
   ],
   "source": [
    "Wmul"
   ]
  },
  {
   "cell_type": "code",
   "execution_count": 78,
   "metadata": {},
   "outputs": [
    {
     "data": {
      "text/plain": [
       "array([[   1.  ,   63.03,   22.55, ...,   40.48,   98.67,   -0.25],\n",
       "       [   1.  ,   39.06,   10.06, ...,   29.  ,  114.41,    4.56],\n",
       "       [   1.  ,   68.83,   22.22, ...,   46.61,  105.99,   -3.53],\n",
       "       ..., \n",
       "       [   1.  ,   61.45,   22.69, ...,   38.75,  125.67,   -2.71],\n",
       "       [   1.  ,   45.25,    8.69, ...,   36.56,  118.55,    0.21],\n",
       "       [   1.  ,   33.84,    5.07, ...,   28.77,  123.95,   -0.2 ]])"
      ]
     },
     "execution_count": 78,
     "metadata": {},
     "output_type": "execute_result"
    }
   ],
   "source": [
    "X = datamul.drop(['Class Label'],axis=1)\n",
    "a = np.ones(shape=(len(X),1))\n",
    "a = pd.DataFrame(a,columns=['bias'])\n",
    "Xa = pd.concat([a,X],axis=1)\n",
    "Xamatrix = Xa.as_matrix()\n",
    "Xamatrix"
   ]
  },
  {
   "cell_type": "code",
   "execution_count": 79,
   "metadata": {},
   "outputs": [
    {
     "name": "stdout",
     "output_type": "stream",
     "text": [
      "row = col =  0 0\n",
      "element is  1\n",
      "row = col =  0 0\n",
      "element is  2\n",
      "row = col =  0 2\n",
      "element is  1\n",
      "row = col =  0 2\n",
      "element is  2\n",
      "row = col =  0 1\n",
      "element is  1\n",
      "row = col =  0 1\n",
      "element is  2\n",
      "row = col =  0 1\n",
      "element is  3\n",
      "row = col =  0 1\n",
      "element is  4\n",
      "row = col =  0 1\n",
      "element is  5\n",
      "row = col =  0 0\n",
      "element is  3\n",
      "row = col =  0 1\n",
      "element is  6\n",
      "row = col =  0 0\n",
      "element is  4\n",
      "row = col =  0 0\n",
      "element is  5\n",
      "row = col =  0 0\n",
      "element is  6\n",
      "row = col =  0 0\n",
      "element is  7\n",
      "row = col =  0 1\n",
      "element is  7\n",
      "row = col =  0 2\n",
      "element is  3\n",
      "row = col =  0 1\n",
      "element is  8\n",
      "row = col =  0 1\n",
      "element is  9\n",
      "row = col =  0 0\n",
      "element is  8\n",
      "row = col =  0 1\n",
      "element is  10\n",
      "row = col =  0 1\n",
      "element is  11\n",
      "row = col =  0 2\n",
      "element is  4\n",
      "row = col =  0 1\n",
      "element is  12\n",
      "row = col =  0 0\n",
      "element is  9\n",
      "row = col =  0 0\n",
      "element is  10\n",
      "row = col =  0 0\n",
      "element is  11\n",
      "row = col =  0 0\n",
      "element is  12\n",
      "row = col =  0 0\n",
      "element is  13\n",
      "row = col =  0 1\n",
      "element is  13\n",
      "row = col =  0 0\n",
      "element is  14\n",
      "row = col =  0 0\n",
      "element is  15\n",
      "row = col =  0 0\n",
      "element is  16\n",
      "row = col =  0 1\n",
      "element is  14\n",
      "row = col =  0 0\n",
      "element is  17\n",
      "row = col =  0 0\n",
      "element is  18\n",
      "row = col =  0 1\n",
      "element is  15\n",
      "row = col =  0 1\n",
      "element is  16\n",
      "row = col =  0 0\n",
      "element is  19\n",
      "row = col =  0 0\n",
      "element is  20\n",
      "row = col =  0 0\n",
      "element is  21\n",
      "row = col =  0 1\n",
      "element is  17\n",
      "row = col =  0 1\n",
      "element is  18\n",
      "row = col =  0 1\n",
      "element is  19\n",
      "row = col =  0 2\n",
      "element is  5\n",
      "row = col =  0 0\n",
      "element is  22\n",
      "row = col =  0 0\n",
      "element is  23\n",
      "row = col =  0 0\n",
      "element is  24\n",
      "row = col =  0 0\n",
      "element is  25\n",
      "row = col =  0 0\n",
      "element is  26\n",
      "row = col =  0 0\n",
      "element is  27\n",
      "row = col =  0 0\n",
      "element is  28\n",
      "row = col =  0 0\n",
      "element is  29\n",
      "row = col =  0 0\n",
      "element is  30\n",
      "row = col =  0 0\n",
      "element is  31\n",
      "row = col =  0 0\n",
      "element is  32\n",
      "row = col =  0 1\n",
      "element is  20\n",
      "row = col =  0 1\n",
      "element is  21\n",
      "row = col =  0 0\n",
      "element is  33\n",
      "row = col =  0 1\n",
      "element is  22\n",
      "row = col =  2 2\n",
      "element is  1\n",
      "row = col =  2 2\n",
      "element is  2\n",
      "row = col =  2 1\n",
      "element is  1\n",
      "row = col =  2 2\n",
      "element is  3\n",
      "row = col =  2 2\n",
      "element is  4\n",
      "row = col =  2 2\n",
      "element is  5\n",
      "row = col =  2 2\n",
      "element is  6\n",
      "row = col =  2 2\n",
      "element is  7\n",
      "row = col =  2 1\n",
      "element is  2\n",
      "row = col =  2 2\n",
      "element is  8\n",
      "row = col =  2 2\n",
      "element is  9\n",
      "row = col =  2 2\n",
      "element is  10\n",
      "row = col =  2 2\n",
      "element is  11\n",
      "row = col =  2 2\n",
      "element is  12\n",
      "row = col =  2 2\n",
      "element is  13\n",
      "row = col =  2 2\n",
      "element is  14\n",
      "row = col =  2 2\n",
      "element is  15\n",
      "row = col =  2 2\n",
      "element is  16\n",
      "row = col =  2 2\n",
      "element is  17\n",
      "row = col =  2 2\n",
      "element is  18\n",
      "row = col =  2 2\n",
      "element is  19\n",
      "row = col =  2 2\n",
      "element is  20\n",
      "row = col =  2 2\n",
      "element is  21\n",
      "row = col =  2 2\n",
      "element is  22\n",
      "row = col =  2 2\n",
      "element is  23\n",
      "row = col =  2 1\n",
      "element is  3\n",
      "row = col =  2 2\n",
      "element is  24\n",
      "row = col =  2 1\n",
      "element is  4\n",
      "row = col =  2 1\n",
      "element is  5\n",
      "row = col =  2 2\n",
      "element is  25\n",
      "row = col =  2 2\n",
      "element is  26\n",
      "row = col =  2 2\n",
      "element is  27\n",
      "row = col =  2 2\n",
      "element is  28\n",
      "row = col =  2 2\n",
      "element is  29\n",
      "row = col =  2 2\n",
      "element is  30\n",
      "row = col =  2 2\n",
      "element is  31\n",
      "row = col =  2 2\n",
      "element is  32\n",
      "row = col =  2 2\n",
      "element is  33\n",
      "row = col =  2 2\n",
      "element is  34\n",
      "row = col =  2 2\n",
      "element is  35\n",
      "row = col =  2 2\n",
      "element is  36\n",
      "row = col =  2 2\n",
      "element is  37\n",
      "row = col =  2 2\n",
      "element is  38\n",
      "row = col =  2 2\n",
      "element is  39\n",
      "row = col =  2 2\n",
      "element is  40\n",
      "row = col =  2 2\n",
      "element is  41\n",
      "row = col =  2 2\n",
      "element is  42\n",
      "row = col =  2 2\n",
      "element is  43\n",
      "row = col =  2 2\n",
      "element is  44\n",
      "row = col =  2 2\n",
      "element is  45\n",
      "row = col =  2 2\n",
      "element is  46\n",
      "row = col =  2 2\n",
      "element is  47\n",
      "row = col =  2 2\n",
      "element is  48\n",
      "row = col =  2 2\n",
      "element is  49\n",
      "row = col =  2 2\n",
      "element is  50\n",
      "row = col =  2 2\n",
      "element is  51\n",
      "row = col =  2 2\n",
      "element is  52\n",
      "row = col =  2 2\n",
      "element is  53\n",
      "row = col =  2 1\n",
      "element is  6\n",
      "row = col =  2 2\n",
      "element is  54\n",
      "row = col =  2 2\n",
      "element is  55\n",
      "row = col =  2 2\n",
      "element is  56\n",
      "row = col =  2 2\n",
      "element is  57\n",
      "row = col =  2 2\n",
      "element is  58\n",
      "row = col =  2 2\n",
      "element is  59\n",
      "row = col =  2 2\n",
      "element is  60\n",
      "row = col =  2 2\n",
      "element is  61\n",
      "row = col =  2 2\n",
      "element is  62\n",
      "row = col =  2 2\n",
      "element is  63\n",
      "row = col =  2 2\n",
      "element is  64\n",
      "row = col =  2 2\n",
      "element is  65\n",
      "row = col =  2 2\n",
      "element is  66\n",
      "row = col =  2 2\n",
      "element is  67\n",
      "row = col =  2 2\n",
      "element is  68\n",
      "row = col =  2 2\n",
      "element is  69\n",
      "row = col =  2 2\n",
      "element is  70\n",
      "row = col =  2 2\n",
      "element is  71\n",
      "row = col =  2 2\n",
      "element is  72\n",
      "row = col =  2 2\n",
      "element is  73\n",
      "row = col =  2 2\n",
      "element is  74\n",
      "row = col =  2 2\n",
      "element is  75\n",
      "row = col =  2 2\n",
      "element is  76\n",
      "row = col =  2 2\n",
      "element is  77\n",
      "row = col =  2 2\n",
      "element is  78\n",
      "row = col =  2 2\n",
      "element is  79\n",
      "row = col =  2 2\n",
      "element is  80\n",
      "row = col =  2 2\n",
      "element is  81\n",
      "row = col =  2 2\n",
      "element is  82\n",
      "row = col =  2 2\n",
      "element is  83\n",
      "row = col =  2 2\n",
      "element is  84\n",
      "row = col =  2 2\n",
      "element is  85\n",
      "row = col =  2 2\n",
      "element is  86\n",
      "row = col =  2 2\n",
      "element is  87\n",
      "row = col =  2 2\n",
      "element is  88\n",
      "row = col =  2 2\n",
      "element is  89\n",
      "row = col =  2 2\n",
      "element is  90\n",
      "row = col =  2 2\n",
      "element is  91\n",
      "row = col =  2 2\n",
      "element is  92\n",
      "row = col =  2 2\n",
      "element is  93\n",
      "row = col =  2 2\n",
      "element is  94\n",
      "row = col =  2 2\n",
      "element is  95\n",
      "row = col =  2 2\n",
      "element is  96\n",
      "row = col =  2 2\n",
      "element is  97\n",
      "row = col =  2 2\n",
      "element is  98\n",
      "row = col =  2 1\n",
      "element is  7\n",
      "row = col =  2 2\n",
      "element is  99\n",
      "row = col =  2 2\n",
      "element is  100\n",
      "row = col =  2 2\n",
      "element is  101\n",
      "row = col =  2 2\n",
      "element is  102\n",
      "row = col =  2 2\n",
      "element is  103\n",
      "row = col =  2 2\n",
      "element is  104\n",
      "row = col =  2 2\n",
      "element is  105\n",
      "row = col =  2 2\n",
      "element is  106\n",
      "row = col =  2 2\n",
      "element is  107\n",
      "row = col =  2 0\n",
      "element is  1\n",
      "row = col =  2 2\n",
      "element is  108\n",
      "row = col =  2 2\n",
      "element is  109\n",
      "row = col =  2 2\n",
      "element is  110\n",
      "row = col =  2 2\n",
      "element is  111\n",
      "row = col =  2 2\n",
      "element is  112\n",
      "row = col =  2 1\n",
      "element is  8\n",
      "row = col =  2 2\n",
      "element is  113\n",
      "row = col =  2 2\n",
      "element is  114\n",
      "row = col =  2 2\n",
      "element is  115\n",
      "row = col =  2 2\n",
      "element is  116\n",
      "row = col =  2 2\n",
      "element is  117\n",
      "row = col =  2 2\n",
      "element is  118\n",
      "row = col =  2 2\n",
      "element is  119\n",
      "row = col =  2 2\n",
      "element is  120\n",
      "row = col =  2 2\n",
      "element is  121\n",
      "row = col =  2 2\n",
      "element is  122\n",
      "row = col =  2 2\n",
      "element is  123\n",
      "row = col =  2 2\n",
      "element is  124\n",
      "row = col =  2 2\n",
      "element is  125\n",
      "row = col =  2 2\n",
      "element is  126\n",
      "row = col =  2 2\n",
      "element is  127\n",
      "row = col =  2 2\n",
      "element is  128\n",
      "row = col =  2 2\n",
      "element is  129\n",
      "row = col =  2 2\n",
      "element is  130\n",
      "row = col =  2 2\n",
      "element is  131\n",
      "row = col =  2 2\n",
      "element is  132\n",
      "row = col =  2 2\n",
      "element is  133\n",
      "row = col =  2 2\n",
      "element is  134\n",
      "row = col =  2 2\n",
      "element is  135\n",
      "row = col =  2 2\n",
      "element is  136\n",
      "row = col =  2 2\n",
      "element is  137\n",
      "row = col =  2 2\n",
      "element is  138\n",
      "row = col =  2 2\n",
      "element is  139\n",
      "row = col =  2 2\n",
      "element is  140\n",
      "row = col =  2 0\n",
      "element is  2\n",
      "row = col =  1 0\n",
      "element is  1\n",
      "row = col =  1 1\n",
      "element is  1\n",
      "row = col =  1 1\n",
      "element is  2\n",
      "row = col =  1 1\n",
      "element is  3\n",
      "row = col =  1 1\n",
      "element is  4\n",
      "row = col =  1 1\n",
      "element is  5\n",
      "row = col =  1 1\n",
      "element is  6\n",
      "row = col =  1 1\n",
      "element is  7\n",
      "row = col =  1 1\n",
      "element is  8\n",
      "row = col =  1 2\n",
      "element is  1\n",
      "row = col =  1 0\n",
      "element is  2\n",
      "row = col =  1 1\n",
      "element is  9\n",
      "row = col =  1 2\n",
      "element is  2\n",
      "row = col =  1 2\n",
      "element is  3\n",
      "row = col =  1 2\n",
      "element is  4\n",
      "row = col =  1 1\n",
      "element is  10\n",
      "row = col =  1 1\n",
      "element is  11\n",
      "row = col =  1 1\n",
      "element is  12\n",
      "row = col =  1 1\n",
      "element is  13\n",
      "row = col =  1 1\n",
      "element is  14\n",
      "row = col =  1 1\n",
      "element is  15\n",
      "row = col =  1 1\n",
      "element is  16\n",
      "row = col =  1 1\n",
      "element is  17\n",
      "row = col =  1 1\n",
      "element is  18\n",
      "row = col =  1 1\n",
      "element is  19\n",
      "row = col =  1 1\n",
      "element is  20\n",
      "row = col =  1 1\n",
      "element is  21\n",
      "row = col =  1 1\n",
      "element is  22\n",
      "row = col =  1 1\n",
      "element is  23\n",
      "row = col =  1 1\n",
      "element is  24\n",
      "row = col =  1 1\n",
      "element is  25\n",
      "row = col =  1 1\n",
      "element is  26\n",
      "row = col =  1 1\n",
      "element is  27\n",
      "row = col =  1 1\n",
      "element is  28\n",
      "row = col =  1 2\n",
      "element is  5\n",
      "row = col =  1 1\n",
      "element is  29\n",
      "row = col =  1 1\n",
      "element is  30\n",
      "row = col =  1 1\n",
      "element is  31\n",
      "row = col =  1 1\n",
      "element is  32\n",
      "row = col =  1 1\n",
      "element is  33\n",
      "row = col =  1 1\n",
      "element is  34\n",
      "row = col =  1 1\n",
      "element is  35\n",
      "row = col =  1 1\n",
      "element is  36\n",
      "row = col =  1 2\n",
      "element is  6\n",
      "row = col =  1 2\n",
      "element is  7\n",
      "row = col =  1 2\n",
      "element is  8\n",
      "row = col =  1 1\n",
      "element is  37\n",
      "row = col =  1 1\n",
      "element is  38\n",
      "row = col =  1 1\n",
      "element is  39\n",
      "row = col =  1 1\n",
      "element is  40\n",
      "row = col =  1 1\n",
      "element is  41\n",
      "row = col =  1 1\n",
      "element is  42\n",
      "row = col =  1 1\n",
      "element is  43\n",
      "row = col =  1 1\n",
      "element is  44\n",
      "row = col =  1 1\n",
      "element is  45\n",
      "row = col =  1 1\n",
      "element is  46\n",
      "row = col =  1 1\n",
      "element is  47\n",
      "row = col =  1 1\n",
      "element is  48\n",
      "row = col =  1 1\n",
      "element is  49\n",
      "row = col =  1 0\n",
      "element is  3\n",
      "row = col =  1 1\n",
      "element is  50\n",
      "row = col =  1 0\n",
      "element is  4\n",
      "row = col =  1 1\n",
      "element is  51\n",
      "row = col =  1 1\n",
      "element is  52\n",
      "row = col =  1 1\n",
      "element is  53\n",
      "row = col =  1 1\n",
      "element is  54\n",
      "row = col =  1 1\n",
      "element is  55\n",
      "row = col =  1 1\n",
      "element is  56\n",
      "row = col =  1 1\n",
      "element is  57\n",
      "row = col =  1 1\n",
      "element is  58\n",
      "row = col =  1 1\n",
      "element is  59\n",
      "row = col =  1 1\n",
      "element is  60\n",
      "row = col =  1 1\n",
      "element is  61\n",
      "row = col =  1 1\n",
      "element is  62\n",
      "row = col =  1 1\n",
      "element is  63\n",
      "row = col =  1 1\n",
      "element is  64\n",
      "row = col =  1 1\n",
      "element is  65\n",
      "row = col =  1 1\n",
      "element is  66\n",
      "row = col =  1 2\n",
      "element is  9\n",
      "row = col =  1 1\n",
      "element is  67\n",
      "row = col =  1 0\n",
      "element is  5\n",
      "row = col =  1 1\n",
      "element is  68\n",
      "row = col =  1 1\n",
      "element is  69\n",
      "row = col =  1 1\n",
      "element is  70\n",
      "row = col =  1 1\n",
      "element is  71\n",
      "row = col =  1 1\n",
      "element is  72\n",
      "row = col =  1 1\n",
      "element is  73\n",
      "row = col =  1 0\n",
      "element is  6\n",
      "row = col =  1 1\n",
      "element is  74\n",
      "row = col =  1 2\n",
      "element is  10\n",
      "row = col =  1 1\n",
      "element is  75\n",
      "row = col =  1 2\n",
      "element is  11\n",
      "row = col =  1 0\n",
      "element is  7\n",
      "row = col =  1 1\n",
      "element is  76\n",
      "row = col =  1 1\n",
      "element is  77\n",
      "row = col =  1 1\n",
      "element is  78\n",
      "row = col =  1 0\n",
      "element is  8\n",
      "row = col =  1 1\n",
      "element is  79\n",
      "row = col =  1 1\n",
      "element is  80\n",
      "row = col =  1 1\n",
      "element is  81\n"
     ]
    },
    {
     "data": {
      "text/plain": [
       "array([[ 33,  22,   5],\n",
       "       [  8,  81,  11],\n",
       "       [  2,   8, 140]])"
      ]
     },
     "execution_count": 79,
     "metadata": {},
     "output_type": "execute_result"
    }
   ],
   "source": [
    "trainOutputMult = Xa.dot(Wmul)\n",
    "trainOutputMult\n",
    "predtrainOutputmult = np.zeros(trainOutputMult.shape[0],dtype=int)\n",
    "# predtrainOutputmult[i] = pd.a(trainOutputMult[i:i+1,:])\n",
    "predtrainOutputmult= trainOutputMult.idxmax(axis=1)\n",
    "predtrainOutputmult.shape\n",
    "confMatrix = np.zeros(shape=(3,3),dtype=int)\n",
    "for i in range(len(predtrainOutputmult)):\n",
    "    row = Tmulcol[i]\n",
    "    col = predtrainOutputmult[i]\n",
    "    print(\"row = col = \" , row ,col)\n",
    "    confMatrix[row,col] = confMatrix[row,col] + 1;\n",
    "    print(\"element is \" , confMatrix[row,col])\n",
    "confMatrix"
   ]
  },
  {
   "cell_type": "code",
   "execution_count": null,
   "metadata": {},
   "outputs": [],
   "source": []
  },
  {
   "cell_type": "code",
   "execution_count": 80,
   "metadata": {},
   "outputs": [
    {
     "data": {
      "text/plain": [
       "array([[ 33,  22,   5],\n",
       "       [  8,  81,  11],\n",
       "       [  2,   8, 140]])"
      ]
     },
     "execution_count": 80,
     "metadata": {},
     "output_type": "execute_result"
    }
   ],
   "source": [
    "confMatrix"
   ]
  },
  {
   "cell_type": "code",
   "execution_count": null,
   "metadata": {
    "collapsed": true
   },
   "outputs": [],
   "source": []
  },
  {
   "cell_type": "code",
   "execution_count": 82,
   "metadata": {},
   "outputs": [
    {
     "name": "stdout",
     "output_type": "stream",
     "text": [
      "PPV max  0.897435897436\n",
      " PPV min  0.72972972973\n",
      " PPV max class  2\n",
      "PPv min class 1\n"
     ]
    }
   ],
   "source": [
    "ppv = np.zeros(shape= (3,1))\n",
    "#calculate PPV for each class\n",
    "for i in range(3):\n",
    "    TPi = confMatrix[i][i]\n",
    "    FPI = confMatrix[:,i:i+1].sum()\n",
    "    ppv[i] = TPi/(FPI)\n",
    "print(\"PPV max \" , ppv.max())\n",
    "print(\" PPV min \" , ppv.min() )\n",
    "print(\" PPV max class \" , np.argmax(ppv))\n",
    "print(\"PPv min class\" , np.argmin(ppv) )"
   ]
  },
  {
   "cell_type": "code",
   "execution_count": null,
   "metadata": {
    "collapsed": true
   },
   "outputs": [],
   "source": []
  },
  {
   "cell_type": "code",
   "execution_count": null,
   "metadata": {
    "collapsed": true
   },
   "outputs": [],
   "source": []
  },
  {
   "cell_type": "code",
   "execution_count": null,
   "metadata": {},
   "outputs": [],
   "source": []
  },
  {
   "cell_type": "code",
   "execution_count": null,
   "metadata": {},
   "outputs": [],
   "source": []
  },
  {
   "cell_type": "code",
   "execution_count": null,
   "metadata": {
    "collapsed": true
   },
   "outputs": [],
   "source": []
  },
  {
   "cell_type": "code",
   "execution_count": null,
   "metadata": {},
   "outputs": [],
   "source": []
  },
  {
   "cell_type": "code",
   "execution_count": null,
   "metadata": {
    "collapsed": true
   },
   "outputs": [],
   "source": []
  },
  {
   "cell_type": "code",
   "execution_count": null,
   "metadata": {
    "collapsed": true
   },
   "outputs": [],
   "source": []
  },
  {
   "cell_type": "code",
   "execution_count": null,
   "metadata": {
    "collapsed": true
   },
   "outputs": [],
   "source": []
  },
  {
   "cell_type": "code",
   "execution_count": null,
   "metadata": {
    "collapsed": true
   },
   "outputs": [],
   "source": []
  },
  {
   "cell_type": "code",
   "execution_count": null,
   "metadata": {
    "collapsed": true
   },
   "outputs": [],
   "source": []
  }
 ],
 "metadata": {
  "kernelspec": {
   "display_name": "Python 3",
   "language": "python",
   "name": "python3"
  },
  "language_info": {
   "codemirror_mode": {
    "name": "ipython",
    "version": 3
   },
   "file_extension": ".py",
   "mimetype": "text/x-python",
   "name": "python",
   "nbconvert_exporter": "python",
   "pygments_lexer": "ipython3",
   "version": "3.6.1"
  }
 },
 "nbformat": 4,
 "nbformat_minor": 2
}
