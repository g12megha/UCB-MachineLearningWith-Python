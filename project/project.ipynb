{
 "cells": [
  {
   "cell_type": "code",
   "execution_count": 1,
   "metadata": {},
   "outputs": [],
   "source": [
    "import pandas as pd\n",
    "import numpy as np\n",
    "from sklearn.preprocessing import StandardScaler\n",
    "from sklearn.model_selection import train_test_split"
   ]
  },
  {
   "cell_type": "code",
   "execution_count": 2,
   "metadata": {},
   "outputs": [],
   "source": [
    "data1 = pd.read_csv('vertebral_2C.csv')"
   ]
  },
  {
   "cell_type": "code",
   "execution_count": 3,
   "metadata": {},
   "outputs": [],
   "source": [
    "data1['Label'] = data1['Class Label'].apply(lambda x: 1 if x == 'AB' else -1)"
   ]
  },
  {
   "cell_type": "code",
   "execution_count": 4,
   "metadata": {},
   "outputs": [],
   "source": [
    "data1.drop(['Class Label'],axis=1,inplace=True)\n",
    "T = data1['Label']"
   ]
  },
  {
   "cell_type": "code",
   "execution_count": 5,
   "metadata": {},
   "outputs": [],
   "source": [
    "#meanPositive = data1[data1['Label'] == 1].drop(['Label'],axis=1).mean()\n",
    "#meanNegative = data1[data1['Label'] == 0].drop(['Label'],axis=1).mean()"
   ]
  },
  {
   "cell_type": "code",
   "execution_count": 6,
   "metadata": {},
   "outputs": [],
   "source": [
    "#covPositive = data1[data1['Label'] == 1].drop(['Label'],axis=1).cov()\n",
    "#covNegative = data1[data1['Label'] == 0].drop(['Label'],axis=1).cov()"
   ]
  },
  {
   "cell_type": "code",
   "execution_count": 7,
   "metadata": {
    "collapsed": true
   },
   "outputs": [],
   "source": [
    "#Positivedet = np.linalg.det(covPositive)\n",
    "#print(Positivedet)\n",
    "#negativedet = np.linalg.det(covNegative)\n",
    "#print(negativedet)"
   ]
  },
  {
   "cell_type": "code",
   "execution_count": 8,
   "metadata": {},
   "outputs": [],
   "source": [
    "#nneg = data1[data1['Label'] == 0]['Label'].count()\n",
    "#print(\"negetive count\",nneg)\n",
    "#npos = data1[data1['Label'] == 1]['Label'].count()\n",
    "#print(\"positive count\",npos)"
   ]
  },
  {
   "cell_type": "code",
   "execution_count": 9,
   "metadata": {},
   "outputs": [],
   "source": [
    "def model(data):\n",
    "    meanPositive = data[data['Label'] == 1].drop(['Label'],axis=1).mean()\n",
    "    meanNegative = data[data['Label'] == -1].drop(['Label'],axis=1).mean()\n",
    "    covPositive = data[data['Label'] == 1].drop(['Label'],axis=1).cov()\n",
    "    covNegative = data[data['Label'] == -1].drop(['Label'],axis=1).cov()\n",
    "    Positivedet = np.linalg.det(covPositive)\n",
    "    negativedet = np.linalg.det(covNegative)\n",
    "    nneg = data[data['Label'] == -1]['Label'].count()\n",
    "    npos = data[data['Label'] == 1]['Label'].count()\n",
    "    return meanPositive,meanNegative,covPositive,covNegative,Positivedet,negativedet,nneg,npos"
   ]
  },
  {
   "cell_type": "code",
   "execution_count": 10,
   "metadata": {
    "collapsed": true
   },
   "outputs": [],
   "source": [
    "import math\n",
    "def pdf(mean, coMatrix, coDet, x):\n",
    "    var = float(coDet)**0.5\n",
    "    denom = (2*math.pi*var)\n",
    "    xsubmean = np.matrix(x-mean)\n",
    "    invcovariance = np.linalg.inv(coMatrix)\n",
    "    meanInvProduct = xsubmean* invcovariance\n",
    "    xsubMeanTranspose= np.transpose([np.array(x-mean)])\n",
    "    num = math.exp(-1 *meanInvProduct *xsubMeanTranspose /2 )\n",
    "    #print(\"pdf \", num/denom)\n",
    "    return num/denom\n",
    "\n",
    "def positveBaysian(meanPositive,meanNegative,covPositive,covNegative,Positivedet,negativedet,x,npos,nneg):\n",
    "    pdfPositive = pdf(meanPositive,covPositive,Positivedet,x)\n",
    "    pdfNegative = pdf(meanNegative,covNegative,negativedet,x)\n",
    "    ProbPositive = npos * pdfPositive / (nneg * pdfNegative + npos* pdfPositive  )\n",
    "    return ProbPositive\n",
    "\n",
    "def negativeBaysian(meanPositive,meanNegative,covPositive,covNegative,Positivedet,negativedet,x,npos,nneg):\n",
    "    pdfPositive = pdf(meanPositive,covPositive,Positivedet,x)\n",
    "    pdfNegative = pdf(meanNegative,covNegative,negativedet,x)\n",
    "    ProbNegative = nneg* pdfNegative/ (nneg * pdfNegative + npos * pdfPositive  )\n",
    "    return ProbNegative\n",
    "\n",
    "#pr5baysian = positveBaysian(meanPositive,meanNegative,covPositive,covNegative,Positivedet,negativedet,pp[0],pp[1])"
   ]
  },
  {
   "cell_type": "code",
   "execution_count": 11,
   "metadata": {},
   "outputs": [],
   "source": [
    "scaler = StandardScaler()\n",
    "#X  = scaler.fit_transform(data1.drop(['Label'],axis=1))\n",
    "#X = data1.drop(['Label'],axis=1).as_matrix()"
   ]
  },
  {
   "cell_type": "code",
   "execution_count": null,
   "metadata": {},
   "outputs": [],
   "source": []
  },
  {
   "cell_type": "code",
   "execution_count": 12,
   "metadata": {},
   "outputs": [
    {
     "data": {
      "text/plain": [
       "'pelvic incidence'"
      ]
     },
     "execution_count": 12,
     "metadata": {},
     "output_type": "execute_result"
    }
   ],
   "source": [
    "cols = data1.columns\n",
    "cols[0]"
   ]
  },
  {
   "cell_type": "code",
   "execution_count": 13,
   "metadata": {},
   "outputs": [],
   "source": [
    "#X1 = pd.DataFrame(X,columns=cols[:-1])"
   ]
  },
  {
   "cell_type": "code",
   "execution_count": 14,
   "metadata": {},
   "outputs": [
    {
     "name": "stdout",
     "output_type": "stream",
     "text": [
      "Accuracy 0.8483870967741935\n",
      "Sensitivity 0.7952380952380952\n",
      "Specificity 0.96\n",
      "PPv 0.9766081871345029\n"
     ]
    }
   ],
   "source": [
    "#calculate baysian accuracy for whole data\n",
    "def baysianWholeData(data):\n",
    "    meanPositive,meanNegative,covPositive,covNegative,Positivedet,negativedet,nneg,npos = model(data)\n",
    "    TNbaysian = 0\n",
    "    TPbaysian = 0\n",
    "    FPbaysian=0\n",
    "    FNbaysian=0\n",
    "    X = data.drop(['Label'],axis=1).as_matrix()\n",
    "    T = data['Label']\n",
    "    for i in range(0,len(data)):\n",
    "        x = X[i]\n",
    "        y = T[i]\n",
    "        if(y == -1):\n",
    "            prneg = negativeBaysian(meanPositive,meanNegative,covPositive,covNegative,Positivedet,negativedet,x,npos,nneg)\n",
    "            if( prneg > 0.5):\n",
    "                TNbaysian = TNbaysian+1\n",
    "            else:\n",
    "                FPbaysian = FPbaysian + 1\n",
    "        else:\n",
    "            prpos = positveBaysian (meanPositive,meanNegative,covPositive,covNegative,Positivedet,negativedet,x,npos,nneg)\n",
    "            if(prpos > 0.5):\n",
    "                #print(\"positive 5\",pr5)\n",
    "                TPbaysian = TPbaysian + 1\n",
    "            else:\n",
    "                FNbaysian = FNbaysian + 1\n",
    "    baysianAccuracy = ( TPbaysian + TNbaysian )/ len(data)\n",
    "    sensitivity = TPbaysian / (TPbaysian + FNbaysian)\n",
    "    specificity = TNbaysian / ( TNbaysian + FPbaysian)\n",
    "    PPV = TPbaysian / (TPbaysian + FPbaysian)\n",
    "    print(\"Accuracy\" ,baysianAccuracy )\n",
    "    print(\"Sensitivity\",sensitivity )\n",
    "    print(\"Specificity\",specificity)\n",
    "    print(\"PPv\",PPV )\n",
    "\n",
    "baysianWholeData(data1)"
   ]
  },
  {
   "cell_type": "code",
   "execution_count": 15,
   "metadata": {
    "collapsed": true
   },
   "outputs": [],
   "source": [
    "X_train, X_test, y_train, y_test = train_test_split(data1.drop(['Label'],axis=1), data1['Label'], test_size=0.33, random_state=42)"
   ]
  },
  {
   "cell_type": "code",
   "execution_count": 16,
   "metadata": {},
   "outputs": [
    {
     "name": "stdout",
     "output_type": "stream",
     "text": [
      "baysian accuracy for partial data  0.0\n"
     ]
    },
    {
     "name": "stderr",
     "output_type": "stream",
     "text": [
      "/Users/d062804/anaconda/lib/python3.6/site-packages/numpy/linalg/linalg.py:1804: RuntimeWarning: invalid value encountered in det\n",
      "  r = _umath_linalg.det(a, signature=signature)\n"
     ]
    }
   ],
   "source": [
    "#baysian accuracy for train/test data\n",
    "def baysianPartialData(data):\n",
    "    X_train, X_test, y_train, y_test = train_test_split(data.drop(['Label'],axis=1), data['Label'], test_size=0.33, random_state=42)\n",
    "    meanPositive,meanNegative,covPositive,covNegative,Positivedet,negativedet,nneg,npos = model(pd.concat([X_train,y_test],axis=1))\n",
    "    TNbaysian = 0\n",
    "    TPbaysian = 0\n",
    "    X = X_test.as_matrix()\n",
    "    T = y_test.as_matrix()\n",
    "    for i in range(0,len(X_test)):\n",
    "        x = X[i]\n",
    "        y = T[i]\n",
    "        if(y == -1):\n",
    "            prneg = negativeBaysian(meanPositive,meanNegative,covPositive,covNegative,Positivedet,negativedet,x,npos,nneg)\n",
    "            if( prneg > 0.5):\n",
    "                TNbaysian = TNbaysian+1\n",
    "        else:\n",
    "            prpos = positveBaysian (meanPositive,meanNegative,covPositive,covNegative,Positivedet,negativedet,x,npos,nneg)\n",
    "            if(prpos > 0.5):\n",
    "                #print(\"positive 5\",pr5)\n",
    "                TPbaysian = TPbaysian + 1\n",
    "    baysianAccuracy = ( TPbaysian + TNbaysian )/ len(X_test)\n",
    "    return baysianAccuracy\n",
    "\n",
    "print(\"baysian accuracy for partial data \",baysianPartialData(data1))"
   ]
  },
  {
   "cell_type": "code",
   "execution_count": null,
   "metadata": {
    "collapsed": true
   },
   "outputs": [],
   "source": []
  }
 ],
 "metadata": {
  "kernelspec": {
   "display_name": "Python 3",
   "language": "python",
   "name": "python3"
  },
  "language_info": {
   "codemirror_mode": {
    "name": "ipython",
    "version": 3
   },
   "file_extension": ".py",
   "mimetype": "text/x-python",
   "name": "python",
   "nbconvert_exporter": "python",
   "pygments_lexer": "ipython3",
   "version": "3.6.1"
  }
 },
 "nbformat": 4,
 "nbformat_minor": 2
}
