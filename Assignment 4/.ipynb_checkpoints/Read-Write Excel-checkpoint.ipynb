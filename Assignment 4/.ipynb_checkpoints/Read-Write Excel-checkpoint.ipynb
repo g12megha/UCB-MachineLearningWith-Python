{
 "cells": [
  {
   "cell_type": "markdown",
   "metadata": {},
   "source": [
    "# Import packages"
   ]
  },
  {
   "cell_type": "code",
   "execution_count": 2,
   "metadata": {
    "collapsed": true
   },
   "outputs": [],
   "source": [
    "import numpy as np"
   ]
  },
  {
   "cell_type": "code",
   "execution_count": 3,
   "metadata": {
    "collapsed": true
   },
   "outputs": [],
   "source": [
    "import matplotlib.pyplot as plt"
   ]
  },
  {
   "cell_type": "markdown",
   "metadata": {},
   "source": [
    "# Function Definitions"
   ]
  },
  {
   "cell_type": "code",
   "execution_count": 1,
   "metadata": {
    "collapsed": true
   },
   "outputs": [],
   "source": [
    "#This function is used in the function readExcel(...) defined further below\n",
    "def readExcelSheet1(excelfile):\n",
    "    from pandas import read_excel\n",
    "    return (read_excel(excelfile)).values"
   ]
  },
  {
   "cell_type": "code",
   "execution_count": 4,
   "metadata": {
    "collapsed": true
   },
   "outputs": [],
   "source": [
    "#This function is used in the function readExcel(...) defined further below\n",
    "def readExcelRange(excelfile,sheetname=\"Sheet1\",startrow=1,endrow=1,startcol=1,endcol=1):\n",
    "    from pandas import read_excel\n",
    "    values=(read_excel(excelfile, sheetname,header=None)).values;\n",
    "    return values[startrow-1:endrow,startcol-1:endcol]"
   ]
  },
  {
   "cell_type": "code",
   "execution_count": 5,
   "metadata": {},
   "outputs": [],
   "source": [
    "#This is the function you can actually use within your program.\n",
    "#See manner of usage further below in the section \"Prepare Data\"\n",
    "def readExcel(excelfile,**args):\n",
    "    if args:\n",
    "        data=readExcelRange(excelfile,**args)\n",
    "    else:\n",
    "        data=readExcelSheet1(excelfile)\n",
    "    if data.shape==(1,1):\n",
    "        return data[0,0]\n",
    "    elif (data.shape)[0]==1:\n",
    "        return data[0]\n",
    "    else:\n",
    "        return data"
   ]
  },
  {
   "cell_type": "code",
   "execution_count": 6,
   "metadata": {},
   "outputs": [],
   "source": [
    "def writeExcelData(x,excelfile,sheetname,startrow,startcol):\n",
    "    from pandas import DataFrame, ExcelWriter\n",
    "    from openpyxl import load_workbook\n",
    "    df=DataFrame(x)\n",
    "    book = load_workbook(excelfile)\n",
    "    writer = ExcelWriter(excelfile, engine='openpyxl') \n",
    "    writer.book = book\n",
    "    writer.sheets = dict((ws.title, ws) for ws in book.worksheets)\n",
    "    df.to_excel(writer, sheet_name=sheetname,startrow=startrow-1, startcol=startcol-1, header=False, index=False)\n",
    "    writer.save()\n",
    "    writer.close()"
   ]
  },
  {
   "cell_type": "code",
   "execution_count": 7,
   "metadata": {},
   "outputs": [],
   "source": [
    "def getSheetNames(excelfile):\n",
    "    from pandas import ExcelFile\n",
    "    return (ExcelFile(excelfile)).sheet_names"
   ]
  },
  {
   "cell_type": "markdown",
   "metadata": {},
   "source": [
    "# Prepare data"
   ]
  },
  {
   "cell_type": "code",
   "execution_count": 8,
   "metadata": {},
   "outputs": [],
   "source": [
    "excelfile=r\"C:\\Users\\Shashi\\Downloads\\Contracts\\UCSC\\UCSC Ext\\Resources_09_2016\\Assignment_1_Data_and_Template.xlsx\";"
   ]
  },
  {
   "cell_type": "code",
   "execution_count": 9,
   "metadata": {},
   "outputs": [
    {
     "data": {
      "text/plain": [
       "['Data',\n",
       " 'Classifiers - Full Data',\n",
       " 'Classifiers - Partial Data',\n",
       " 'Observations']"
      ]
     },
     "execution_count": 9,
     "metadata": {},
     "output_type": "execute_result"
    }
   ],
   "source": [
    "sheets=getSheetNames(excelfile);sheets"
   ]
  },
  {
   "cell_type": "code",
   "execution_count": 10,
   "metadata": {},
   "outputs": [],
   "source": [
    "data=readExcel(excelfile) #Simple method of calling readExcel\n",
    "X=np.array(data[:,0]*12+data[:,1],dtype=float)\n",
    "T=np.array([str(g) for g in data[:,2]])\n",
    "X50=X[:50]\n",
    "T50=T[:50]"
   ]
  },
  {
   "cell_type": "code",
   "execution_count": 12,
   "metadata": {},
   "outputs": [
    {
     "data": {
      "text/plain": [
       "array([ 55.,  60.,  65.,  70.,  75.,  80.])"
      ]
     },
     "execution_count": 12,
     "metadata": {},
     "output_type": "execute_result"
    }
   ],
   "source": [
    "queries=(readExcel(excelfile, #General method of calling readExcel\n",
    "                  sheetname='Classifiers - Full Data',\n",
    "                  startrow=17,\n",
    "                  endrow=17,\n",
    "                  startcol=2,\n",
    "                  endcol=7)).astype(float);queries"
   ]
  }
 ],
 "metadata": {
  "anaconda-cloud": {},
  "kernelspec": {
   "display_name": "Python 3",
   "language": "python",
   "name": "python3"
  },
  "language_info": {
   "codemirror_mode": {
    "name": "ipython",
    "version": 3
   },
   "file_extension": ".py",
   "mimetype": "text/x-python",
   "name": "python",
   "nbconvert_exporter": "python",
   "pygments_lexer": "ipython3",
   "version": "3.6.1"
  }
 },
 "nbformat": 4,
 "nbformat_minor": 1
}
